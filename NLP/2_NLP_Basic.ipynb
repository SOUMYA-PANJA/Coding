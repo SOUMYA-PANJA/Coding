{
 "cells": [
  {
   "cell_type": "code",
   "execution_count": 1,
   "metadata": {},
   "outputs": [],
   "source": [
    "import nltk"
   ]
  },
  {
   "cell_type": "code",
   "execution_count": 2,
   "metadata": {},
   "outputs": [],
   "source": [
    "# nltk.download('all')\n",
    "# The above line is used to download all the libraries in nltk"
   ]
  },
  {
   "cell_type": "code",
   "execution_count": 3,
   "metadata": {},
   "outputs": [],
   "source": [
    "from nltk.corpus import brown"
   ]
  },
  {
   "cell_type": "markdown",
   "metadata": {},
   "source": [
    "# Statistics for brown corpus\n",
    "### ~ 1.1 Million Tokens\n",
    "###   500 text document\n",
    "###   15 categories"
   ]
  },
  {
   "cell_type": "code",
   "execution_count": 5,
   "metadata": {},
   "outputs": [
    {
     "name": "stdout",
     "output_type": "stream",
     "text": [
      "['The', 'Fulton', 'County', 'Grand', 'Jury', 'said', ...]\n"
     ]
    }
   ],
   "source": [
    "tokenList = brown.words()\n",
    "print(tokenList) # Don't try to print the complete list"
   ]
  },
  {
   "cell_type": "code",
   "execution_count": 7,
   "metadata": {},
   "outputs": [
    {
     "name": "stdout",
     "output_type": "stream",
     "text": [
      "The Token Count:  1161192\n"
     ]
    }
   ],
   "source": [
    "print(\"The Token Count: \", len(tokenList))"
   ]
  },
  {
   "cell_type": "code",
   "execution_count": 8,
   "metadata": {},
   "outputs": [
    {
     "name": "stdout",
     "output_type": "stream",
     "text": [
      "['adventure', 'belles_lettres', 'editorial', 'fiction', 'government', 'hobbies', 'humor', 'learned', 'lore', 'mystery', 'news', 'religion', 'reviews', 'romance', 'science_fiction']\n"
     ]
    }
   ],
   "source": [
    "print(brown.categories())"
   ]
  },
  {
   "cell_type": "code",
   "execution_count": 12,
   "metadata": {},
   "outputs": [
    {
     "name": "stdout",
     "output_type": "stream",
     "text": [
      "['Dan', 'Morgan', 'told', 'himself', 'he', 'would', ...]\n",
      "69342\n"
     ]
    }
   ],
   "source": [
    "adventureTokenList = brown.words(categories='adventure')\n",
    "print(adventureTokenList)\n",
    "print(len(adventureTokenList))"
   ]
  },
  {
   "cell_type": "code",
   "execution_count": 13,
   "metadata": {},
   "outputs": [
    {
     "name": "stdout",
     "output_type": "stream",
     "text": [
      "Brown vocabulary size:  56057\n"
     ]
    }
   ],
   "source": [
    "print(\"Brown vocabulary size: \", len(set(tokenList)))"
   ]
  },
  {
   "cell_type": "code",
   "execution_count": 14,
   "metadata": {},
   "outputs": [
    {
     "name": "stdout",
     "output_type": "stream",
     "text": [
      "TTR for brown corpus:  0.048275392872152066\n"
     ]
    }
   ],
   "source": [
    "print(\"TTR for brown corpus: \", len(set(tokenList))/float(len(tokenList)))"
   ]
  },
  {
   "cell_type": "code",
   "execution_count": 15,
   "metadata": {},
   "outputs": [
    {
     "name": "stdout",
     "output_type": "stream",
     "text": [
      "<FreqDist with 56057 samples and 1161192 outcomes>\n"
     ]
    }
   ],
   "source": [
    "tokenCount = nltk.FreqDist(tokenList)\n",
    "print(tokenCount)"
   ]
  },
  {
   "cell_type": "code",
   "execution_count": 17,
   "metadata": {},
   "outputs": [
    {
     "name": "stdout",
     "output_type": "stream",
     "text": [
      "[('the', 62713), (',', 58334), ('.', 49346), ('of', 36080), ('and', 27915), ('to', 25732), ('a', 21881), ('in', 19536), ('that', 10237), ('is', 10011)]\n"
     ]
    }
   ],
   "source": [
    "print(tokenCount.most_common(10))"
   ]
  },
  {
   "cell_type": "code",
   "execution_count": 23,
   "metadata": {},
   "outputs": [
    {
     "data": {
      "image/png": "[encoded data removed]",
      "text/plain": [
       "<Figure size 432x288 with 1 Axes>"
      ]
     },
     "metadata": {
      "needs_background": "light"
     },
     "output_type": "display_data"
    },
    {
     "data": {
      "text/plain": [
       "<AxesSubplot:xlabel='Samples', ylabel='Cumulative Counts'>"
      ]
     },
     "execution_count": 23,
     "metadata": {},
     "output_type": "execute_result"
    }
   ],
   "source": [
    "tokenCount.plot(10, cumulative=True)"
   ]
  },
  {
   "cell_type": "code",
   "execution_count": 27,
   "metadata": {},
   "outputs": [],
   "source": [
    "from collections import defaultdict"
   ]
  },
  {
   "cell_type": "code",
   "execution_count": 28,
   "metadata": {},
   "outputs": [],
   "source": [
    "CountFreq = defaultdict(int)\n",
    "for token in tokenCount:\n",
    "    CountFreq[tokenCount[token]] += 1"
   ]
  },
  {
   "cell_type": "code",
   "execution_count": 29,
   "metadata": {},
   "outputs": [
    {
     "name": "stdout",
     "output_type": "stream",
     "text": [
      "defaultdict(<class 'int'>, {62713: 1, 58334: 1, 49346: 1, 36080: 1, 27915: 1, 25732: 1, 21881: 1, 19536: 1, 10237: 1, 10011: 1, 9777: 1, 8841: 1, 8837: 1, 8789: 1, 7258: 1, 7012: 1, 6723: 1, 6706: 1, 6566: 1, 6466: 1, 6395: 1, 6344: 1, 5566: 1, 5161: 1, 5103: 1, 5102: 1, 4963: 1, 4693: 1, 4423: 1, 4333: 1, 4207: 1, 4118: 1, 3966: 1, 3892: 1, 3542: 1, 3540: 1, 3432: 1, 3279: 1, 3007: 1, 2982: 1, 2885: 1, 2873: 1, 2773: 1, 2766: 1, 2726: 1, 2677: 1, 2576: 1, 2562: 1, 2470: 1, 2466: 1, 2435: 1, 2425: 1, 2204: 1, 2192: 1, 2130: 1, 2058: 1, 2037: 1, 1973: 1, 1949: 1, 1943: 1, 1877: 1, 1874: 1, 1801: 1, 1795: 1, 1788: 1, 1786: 1, 1782: 1, 1781: 1, 1780: 1, 1766: 1, 1755: 1, 1746: 1, 1738: 1, 1646: 1, 1627: 1, 1596: 1, 1580: 1, 1556: 1, 1466: 1, 1435: 1, 1407: 1, 1374: 1, 1314: 1, 1311: 1, 1301: 1, 1292: 1, 1259: 1, 1242: 1, 1237: 1, 1228: 1, 1206: 1, 1192: 1, 1179: 1, 1165: 1, 1161: 1, 1151: 1, 1142: 1, 1122: 1, 1060: 1, 1055: 1, 1045: 1, 1025: 1, 1003: 1, 999: 1, 995: 1, 994: 1, 985: 1, 950: 1, 948: 1, 943: 1, 941: 1, 938: 1, 925: 1, 911: 1, 900: 1, 892: 1, 888: 1, 868: 1, 865: 1, 851: 1, 850: 1, 847: 1, 844: 1, 823: 1, 811: 2, 801: 1, 788: 1, 782: 1, 772: 2, 768: 1, 767: 1, 759: 1, 757: 1, 755: 1, 751: 1, 736: 1, 732: 1, 731: 1, 728: 1, 719: 1, 716: 1, 713: 1, 691: 1, 684: 1, 679: 3, 676: 1, 670: 2, 664: 1, 649: 1, 648: 2, 643: 1, 636: 1, 634: 1, 623: 2, 621: 1, 618: 1, 610: 1, 608: 1, 607: 1, 605: 1, 599: 1, 597: 1, 589: 1, 585: 1, 583: 1, 577: 1, 575: 1, 573: 1, 569: 1, 568: 1, 566: 1, 560: 1, 556: 1, 553: 1, 547: 1, 544: 1, 541: 1, 536: 1, 534: 2, 530: 1, 528: 1, 527: 1, 526: 1, 520: 1, 518: 1, 515: 1, 506: 1, 495: 1, 475: 1, 473: 1, 471: 2, 467: 1, 465: 1, 464: 1, 463: 1, 461: 1, 455: 1, 453: 2, 449: 1, 447: 1, 446: 1, 445: 2, 434: 1, 433: 1, 431: 1, 427: 1, 426: 3, 425: 1, 424: 1, 421: 1, 420: 1, 419: 1, 418: 1, 417: 1, 414: 1, 411: 1, 409: 2, 408: 1, 406: 1, 402: 1, 401: 1, 400: 2, 398: 1, 396: 1, 395: 2, 393: 2, 392: 1, 391: 1, 387: 1, 382: 2, 381: 1, 380: 1, 379: 1, 377: 1, 375: 2, 373: 2, 372: 1, 370: 4, 366: 2, 365: 1, 364: 1, 363: 2, 362: 1, 361: 1, 360: 1, 359: 2, 358: 2, 357: 3, 356: 1, 355: 2, 354: 2, 352: 1, 351: 1, 350: 1, 349: 1, 346: 1, 345: 1, 343: 1, 342: 2, 341: 2, 338: 1, 333: 3, 332: 1, 331: 1, 326: 3, 324: 1, 323: 1, 321: 1, 320: 2, 319: 1, 317: 1, 316: 2, 314: 1, 312: 5, 311: 3, 310: 2, 306: 3, 305: 2, 304: 1, 303: 2, 302: 1, 299: 1, 294: 2, 293: 1, 292: 1, 291: 1, 287: 3, 285: 2, 283: 2, 282: 1, 279: 1, 277: 3, 276: 1, 275: 2, 274: 1, 273: 2, 272: 2, 271: 2, 270: 2, 269: 4, 268: 1, 267: 1, 265: 1, 264: 2, 263: 3, 261: 1, 260: 1, 259: 3, 258: 4, 257: 3, 254: 3, 253: 1, 252: 2, 251: 1, 250: 2, 247: 1, 246: 4, 245: 4, 244: 1, 243: 3, 242: 2, 240: 3, 239: 3, 238: 1, 237: 1, 236: 2, 235: 2, 233: 2, 232: 1, 230: 2, 229: 1, 227: 2, 226: 2, 225: 2, 223: 2, 221: 2, 220: 1, 219: 2, 218: 2, 217: 3, 216: 2, 215: 2, 214: 5, 213: 1, 212: 3, 211: 3, 210: 1, 209: 3, 208: 2, 206: 4, 205: 1, 204: 2, 203: 1, 201: 3, 200: 2, 199: 5, 198: 4, 197: 2, 196: 4, 195: 4, 194: 8, 193: 3, 192: 3, 191: 4, 190: 4, 189: 1, 188: 1, 187: 5, 186: 4, 185: 4, 184: 3, 183: 2, 182: 1, 181: 7, 180: 2, 179: 2, 178: 3, 177: 2, 176: 3, 175: 2, 174: 2, 173: 5, 172: 5, 171: 5, 170: 9, 169: 4, 168: 2, 167: 4, 166: 5, 164: 5, 163: 8, 162: 7, 161: 6, 160: 8, 159: 4, 158: 4, 157: 4, 156: 4, 155: 2, 154: 2, 153: 4, 152: 4, 151: 9, 150: 3, 149: 5, 148: 5, 147: 8, 146: 6, 145: 4, 144: 4, 143: 7, 142: 4, 141: 7, 140: 7, 139: 7, 138: 5, 137: 5, 136: 3, 135: 7, 134: 9, 133: 7, 132: 9, 131: 6, 130: 6, 129: 7, 128: 13, 127: 2, 126: 6, 125: 11, 124: 8, 123: 5, 122: 12, 121: 6, 120: 7, 119: 13, 118: 10, 117: 11, 116: 7, 115: 12, 114: 6, 113: 9, 112: 6, 111: 10, 110: 15, 109: 14, 108: 8, 107: 12, 106: 17, 105: 9, 104: 14, 103: 13, 102: 14, 101: 16, 100: 6, 99: 10, 98: 10, 97: 13, 96: 11, 95: 8, 94: 12, 93: 17, 92: 16, 91: 11, 90: 17, 89: 12, 88: 12, 87: 18, 86: 15, 85: 16, 84: 15, 83: 17, 82: 20, 81: 23, 80: 20, 79: 16, 78: 17, 77: 18, 76: 27, 75: 18, 74: 20, 73: 14, 72: 18, 71: 19, 70: 21, 69: 25, 68: 29, 67: 25, 66: 39, 65: 34, 64: 23, 63: 32, 62: 37, 61: 29, 60: 35, 59: 31, 58: 44, 57: 42, 56: 42, 55: 43, 54: 32, 53: 44, 52: 32, 51: 43, 50: 36, 49: 32, 48: 49, 47: 54, 46: 64, 45: 55, 44: 56, 43: 69, 42: 65, 41: 61, 40: 80, 39: 72, 38: 71, 37: 86, 36: 75, 35: 69, 34: 104, 33: 83, 32: 94, 31: 87, 30: 103, 29: 93, 28: 119, 27: 126, 26: 136, 25: 130, 24: 129, 23: 152, 22: 161, 21: 210, 20: 203, 19: 213, 18: 238, 17: 265, 16: 333, 15: 315, 14: 360, 13: 442, 12: 451, 11: 506, 10: 608, 9: 752, 8: 906, 7: 1179, 6: 1428, 5: 2013, 4: 2731, 3: 4435, 2: 8159, 1: 25559})\n"
     ]
    }
   ],
   "source": [
    "print(CountFreq)"
   ]
  },
  {
   "cell_type": "code",
   "execution_count": 46,
   "metadata": {},
   "outputs": [
    {
     "data": {
      "image/png": "[encoded data removed]",
      "text/plain": [
       "<Figure size 432x288 with 1 Axes>"
      ]
     },
     "metadata": {
      "needs_background": "light"
     },
     "output_type": "display_data"
    }
   ],
   "source": [
    "import matplotlib.pyplot as plt\n",
    "x = list(CountFreq.keys())\n",
    "y = list(CountFreq.values())\n",
    "plt.xlabel(\"Token Count\")\n",
    "plt.ylabel(\"Frequency of token count\")\n",
    "plt.scatter(x, y)\n",
    "plt.yscale('log')\n",
    "plt.xscale('log')"
   ]
  },
  {
   "cell_type": "code",
   "execution_count": null,
   "metadata": {},
   "outputs": [],
   "source": []
  }
 ],
 "metadata": {
  "kernelspec": {
   "display_name": "Python 3.9.7 64-bit",
   "language": "python",
   "name": "python3"
  },
  "language_info": {
   "codemirror_mode": {
    "name": "ipython",
    "version": 3
   },
   "file_extension": ".py",
   "mimetype": "text/x-python",
   "name": "python",
   "nbconvert_exporter": "python",
   "pygments_lexer": "ipython3",
   "version": "3.9.7"
  },
  "orig_nbformat": 4,
  "vscode": {
   "interpreter": {
    "hash": "146ad12ad804e51233bd8e0e4750bbd5b1ea650c2a554e98761327ccb594fe93"
   }
  }
 },
 "nbformat": 4,
 "nbformat_minor": 2
}
