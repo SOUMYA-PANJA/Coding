{
 "cells": [
  {
   "cell_type": "code",
   "execution_count": 17,
   "metadata": {},
   "outputs": [],
   "source": [
    "from gensim.corpora import Dictionary\n",
    "from gensim.models import ldamodel\n",
    "import numpy as np\n"
   ]
  },
  {
   "cell_type": "code",
   "execution_count": 18,
   "metadata": {},
   "outputs": [],
   "source": [
    "texts = [\n",
    "    [\"bank\", \"river\", \"shore\", \"water\"],\n",
    "    [\"river\", \"water\", \"flow\", \"fast\", \"tree\"],\n",
    "    [\"bank\", \"water\", \"fall\", \"flow\"],\n",
    "    [\"bank\", \"bank\", \"water\", \"rain\", \"river\"],\n",
    "    [\"river\", \"water\", \"mud\", \"tree\"],\n",
    "    [\"money\", \"transaction\", \"bank\", \"finance\"],\n",
    "    [\"bank\", \"borrow\", \"money\"],\n",
    "    [\"bank\", \"finance\"],\n",
    "    [\"finance\", \"money\", \"sell\", \"bank\"],\n",
    "    [\"borrow\", \"sell\"],\n",
    "    [\"bank\", \"loan\", \"sell\"]\n",
    "]"
   ]
  },
  {
   "cell_type": "code",
   "execution_count": 19,
   "metadata": {},
   "outputs": [
    {
     "data": {
      "text/plain": [
       "[[(0, 1), (1, 1), (2, 1), (3, 1)],\n",
       " [(1, 1), (3, 1), (4, 1), (5, 1), (6, 1)],\n",
       " [(0, 1), (3, 1), (5, 1), (7, 1)],\n",
       " [(0, 2), (1, 1), (3, 1), (8, 1)],\n",
       " [(1, 1), (3, 1), (6, 1), (9, 1)],\n",
       " [(0, 1), (10, 1), (11, 1), (12, 1)],\n",
       " [(0, 1), (11, 1), (13, 1)],\n",
       " [(0, 1), (10, 1)],\n",
       " [(0, 1), (10, 1), (11, 1), (14, 1)],\n",
       " [(13, 1), (14, 1)],\n",
       " [(0, 1), (14, 1), (15, 1)]]"
      ]
     },
     "execution_count": 19,
     "metadata": {},
     "output_type": "execute_result"
    }
   ],
   "source": [
    "dictionary = Dictionary(texts)\n",
    "corpus = [dictionary.doc2bow(text) for text in texts]\n",
    "corpus"
   ]
  },
  {
   "cell_type": "code",
   "execution_count": 20,
   "metadata": {},
   "outputs": [],
   "source": [
    "np.random.seed(10)\n",
    "model = ldamodel.LdaModel(corpus, id2word = dictionary, num_topics = 2)"
   ]
  },
  {
   "cell_type": "code",
   "execution_count": 21,
   "metadata": {},
   "outputs": [
    {
     "data": {
      "text/plain": [
       "[(0,\n",
       "  '0.213*\"bank\" + 0.122*\"water\" + 0.102*\"river\" + 0.069*\"finance\" + 0.064*\"money\" + 0.054*\"flow\" + 0.049*\"borrow\" + 0.045*\"tree\" + 0.043*\"rain\" + 0.041*\"fall\" + 0.040*\"shore\" + 0.039*\"transaction\" + 0.034*\"mud\" + 0.033*\"sell\" + 0.028*\"fast\" + 0.025*\"loan\"'),\n",
       " (1,\n",
       "  '0.130*\"bank\" + 0.126*\"sell\" + 0.087*\"water\" + 0.083*\"money\" + 0.074*\"finance\" + 0.071*\"river\" + 0.066*\"tree\" + 0.059*\"borrow\" + 0.053*\"flow\" + 0.052*\"loan\" + 0.047*\"fast\" + 0.038*\"mud\" + 0.031*\"transaction\" + 0.029*\"shore\" + 0.028*\"fall\" + 0.026*\"rain\"')]"
      ]
     },
     "execution_count": 21,
     "metadata": {},
     "output_type": "execute_result"
    }
   ],
   "source": [
    "model.show_topics(num_words = 20)"
   ]
  },
  {
   "cell_type": "code",
   "execution_count": 22,
   "metadata": {},
   "outputs": [
    {
     "data": {
      "text/plain": [
       "[(0, 0.10832518), (1, 0.0675069)]"
      ]
     },
     "execution_count": 22,
     "metadata": {},
     "output_type": "execute_result"
    }
   ],
   "source": [
    "model.get_term_topics('water')"
   ]
  },
  {
   "cell_type": "code",
   "execution_count": 23,
   "metadata": {},
   "outputs": [
    {
     "data": {
      "text/plain": [
       "[(0, 0.05572547), (1, 0.05523094)]"
      ]
     },
     "execution_count": 23,
     "metadata": {},
     "output_type": "execute_result"
    }
   ],
   "source": [
    "model.get_term_topics('finance')"
   ]
  },
  {
   "cell_type": "code",
   "execution_count": 24,
   "metadata": {},
   "outputs": [],
   "source": [
    "bow_water = [\"bank\", \"water\", \"bank\"]\n",
    "bow_finance = [\"bank\", \"finance\", \"bank\"]"
   ]
  },
  {
   "cell_type": "code",
   "execution_count": 25,
   "metadata": {},
   "outputs": [
    {
     "data": {
      "text/plain": [
       "[(0, [0, 1]), (3, [0, 1])]"
      ]
     },
     "execution_count": 25,
     "metadata": {},
     "output_type": "execute_result"
    }
   ],
   "source": [
    "bow = model.id2word.doc2bow(bow_water)\n",
    "doc_topics, word_topics, phi_values = model.get_document_topics(bow, per_word_topics = True)\n",
    "\n",
    "word_topics"
   ]
  },
  {
   "cell_type": "code",
   "execution_count": 26,
   "metadata": {},
   "outputs": [
    {
     "data": {
      "text/plain": [
       "[(0, [(0, 1.9089197), (1, 0.09107888)]),\n",
       " (3, [(0, 0.94893956), (1, 0.051059198)])]"
      ]
     },
     "execution_count": 26,
     "metadata": {},
     "output_type": "execute_result"
    }
   ],
   "source": [
    "phi_values"
   ]
  },
  {
   "cell_type": "code",
   "execution_count": 27,
   "metadata": {},
   "outputs": [
    {
     "data": {
      "text/plain": [
       "[(0, [0, 1]), (10, [0, 1])]"
      ]
     },
     "execution_count": 27,
     "metadata": {},
     "output_type": "execute_result"
    }
   ],
   "source": [
    "bow2 = model.id2word.doc2bow(bow_finance)\n",
    "doc_topics2, word_topics2, phi_values2 = model.get_document_topics(bow2, per_word_topics = True)\n",
    "\n",
    "word_topics2"
   ]
  },
  {
   "cell_type": "code",
   "execution_count": 28,
   "metadata": {},
   "outputs": [
    {
     "name": "stdout",
     "output_type": "stream",
     "text": [
      "New Document \n",
      "\n",
      "Document Topics:  [(0, 0.87358195), (1, 0.12641808)]\n",
      "Word Topics:  [(0, [0, 1]), (1, [0, 1]), (2, [0, 1]), (3, [0, 1])]\n",
      "Phi Values:  [(0, [(0, 0.96699), (1, 0.033009302)]), (1, [(0, 0.96494913), (1, 0.035049383)]), (2, [(0, 0.9734072), (1, 0.026587883)]), (3, [(0, 0.9629295), (1, 0.037069295)])]\n",
      " \n",
      "-------------\n",
      "\n",
      "New Document \n",
      "\n",
      "Document Topics:  [(0, 0.5714852), (1, 0.4285148)]\n",
      "Word Topics:  [(1, [0, 1]), (3, [0, 1]), (4, [1, 0]), (5, [0, 1]), (6, [1, 0])]\n",
      "Phi Values:  [(1, [(0, 0.7053676), (1, 0.29463065)]), (3, [(0, 0.69314545), (1, 0.30685318)]), (4, [(0, 0.42072672), (1, 0.57926685)]), (5, [(0, 0.6222655), (1, 0.37773103)]), (6, [(0, 0.4882935), (1, 0.51170313)])]\n",
      " \n",
      "-------------\n",
      "\n",
      "New Document \n",
      "\n",
      "Document Topics:  [(0, 0.8687245), (1, 0.1312755)]\n",
      "Word Topics:  [(0, [0, 1]), (3, [0, 1]), (5, [0, 1]), (7, [0, 1])]\n",
      "Phi Values:  [(0, [(0, 0.9641692), (1, 0.035830166)]), (3, [(0, 0.95977616), (1, 0.04022268)]), (5, [(0, 0.94565487), (1, 0.054341838)]), (7, [(0, 0.9745123), (1, 0.025482778)])]\n",
      " \n",
      "-------------\n",
      "\n",
      "New Document \n",
      "\n",
      "Document Topics:  [(0, 0.89629287), (1, 0.103707105)]\n",
      "Word Topics:  [(0, [0, 1]), (1, [0, 1]), (3, [0, 1]), (8, [0, 1])]\n",
      "Phi Values:  [(0, [(0, 1.9489199), (1, 0.051078767)]), (1, [(0, 0.97286767), (1, 0.027130747)]), (3, [(0, 0.97129095), (1, 0.028707884)]), (8, [(0, 0.98487574), (1, 0.015119672)])]\n",
      " \n",
      "-------------\n",
      "\n",
      "New Document \n",
      "\n",
      "Document Topics:  [(0, 0.7949813), (1, 0.20501873)]\n",
      "Word Topics:  [(1, [0, 1]), (3, [0, 1]), (6, [0, 1]), (9, [0, 1])]\n",
      "Phi Values:  [(1, [(0, 0.9102479), (1, 0.089750454)]), (3, [(0, 0.90538496), (1, 0.094613716)]), (6, [(0, 0.80168194), (1, 0.19831418)]), (9, [(0, 0.85841304), (1, 0.14158046)])]\n",
      " \n",
      "-------------\n",
      "\n",
      "New Document \n",
      "\n",
      "Document Topics:  [(0, 0.82709086), (1, 0.17290913)]\n",
      "Word Topics:  [(0, [0, 1]), (10, [0, 1]), (11, [0, 1]), (12, [0, 1])]\n",
      "Phi Values:  [(0, [(0, 0.93773854), (1, 0.062260743)]), (10, [(0, 0.8935871), (1, 0.106410585)]), (11, [(0, 0.8673638), (1, 0.13263369)]), (12, [(0, 0.9374202), (1, 0.06257433)])]\n",
      " \n",
      "-------------\n",
      "\n",
      "New Document \n",
      "\n",
      "Document Topics:  [(0, 0.6713282), (1, 0.3286718)]\n",
      "Word Topics:  [(0, [0, 1]), (11, [0, 1]), (13, [0, 1])]\n",
      "Phi Values:  [(0, [(0, 0.82287735), (1, 0.17712188)]), (11, [(0, 0.6685621), (1, 0.33143538)]), (13, [(0, 0.6948454), (1, 0.305151)])]\n",
      " \n",
      "-------------\n",
      "\n",
      "New Document \n",
      "\n",
      "Document Topics:  [(0, 0.74512917), (1, 0.25487083)]\n",
      "Word Topics:  [(0, [0, 1]), (10, [0, 1])]\n",
      "Phi Values:  [(0, [(0, 0.9008542), (1, 0.09914506)]), (10, [(0, 0.83514553), (1, 0.164852)])]\n",
      " \n",
      "-------------\n",
      "\n",
      "New Document \n",
      "\n",
      "Document Topics:  [(0, 0.20528296), (1, 0.7947171)]\n",
      "Word Topics:  [(0, [1, 0]), (10, [1, 0]), (11, [1, 0]), (14, [1, 0])]\n",
      "Phi Values:  [(0, [(0, 0.2332474), (1, 0.76675147)]), (10, [(0, 0.14501247), (1, 0.8549851)]), (11, [(0, 0.116671175), (1, 0.8833266)]), (14, [(0, 0.030702049), (1, 0.96929663)])]\n",
      " \n",
      "-------------\n",
      "\n",
      "New Document \n",
      "\n",
      "Document Topics:  [(0, 0.20630996), (1, 0.79369)]\n",
      "Word Topics:  [(13, [1, 0]), (14, [1, 0])]\n",
      "Phi Values:  [(13, [(0, 0.096511774), (1, 0.9034847)]), (14, [(0, 0.0221897), (1, 0.9778089)])]\n",
      " \n",
      "-------------\n",
      "\n",
      "New Document \n",
      "\n",
      "Document Topics:  [(0, 0.18528862), (1, 0.8147114)]\n",
      "Word Topics:  [(0, [1, 0]), (14, [1, 0]), (15, [1, 0])]\n",
      "Phi Values:  [(0, [(0, 0.1771743), (1, 0.82282454)]), (14, [(0, 0.021928648), (1, 0.97806996)]), (15, [(0, 0.041633748), (1, 0.9583619)])]\n",
      " \n",
      "-------------\n",
      "\n"
     ]
    }
   ],
   "source": [
    "all_topics = model.get_document_topics(corpus, per_word_topics = True)\n",
    "\n",
    "for doc_topics3, word_topics3, phi_values3 in all_topics:\n",
    "    print(\"New Document \\n\")\n",
    "    print(\"Document Topics: \", doc_topics3)\n",
    "    print(\"Word Topics: \", word_topics3)\n",
    "    print(\"Phi Values: \", phi_values3)\n",
    "    print(\" \")\n",
    "    print(\"-------------\\n\")"
   ]
  },
  {
   "cell_type": "code",
   "execution_count": null,
   "metadata": {},
   "outputs": [],
   "source": []
  }
 ],
 "metadata": {
  "kernelspec": {
   "display_name": "Python 3.9.7 64-bit",
   "language": "python",
   "name": "python3"
  },
  "language_info": {
   "codemirror_mode": {
    "name": "ipython",
    "version": 3
   },
   "file_extension": ".py",
   "mimetype": "text/x-python",
   "name": "python",
   "nbconvert_exporter": "python",
   "pygments_lexer": "ipython3",
   "version": "3.9.7"
  },
  "orig_nbformat": 4,
  "vscode": {
   "interpreter": {
    "hash": "146ad12ad804e51233bd8e0e4750bbd5b1ea650c2a554e98761327ccb594fe93"
   }
  }
 },
 "nbformat": 4,
 "nbformat_minor": 2
}
