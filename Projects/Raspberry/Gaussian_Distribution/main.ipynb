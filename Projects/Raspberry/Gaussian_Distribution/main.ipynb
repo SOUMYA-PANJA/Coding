{
 "cells": [
  {
   "cell_type": "code",
   "execution_count": 7,
   "metadata": {
    "collapsed": true,
    "pycharm": {
     "name": "#%%\n"
    }
   },
   "outputs": [],
   "source": [
    "import matplotlib.pyplot as plt\n",
    "from mpl_toolkits.mplot3d import Axes3D\n",
    "import numpy as np"
   ]
  },
  {
   "cell_type": "code",
   "execution_count": 8,
   "metadata": {
    "collapsed": false,
    "pycharm": {
     "name": "#%%\n"
    }
   },
   "outputs": [],
   "source": [
    "def multi_gaussian(pos, mu, si):\n",
    "  n = mu.shape[0]\n",
    "  Sig_det = np.linalg.det(si)\n",
    "  Sig_inv = np.linalg.inv(si)\n",
    "  N = np.sqrt((2*np.pi)**n * Sig_det)\n",
    "  fac = np.einsum('...k,kl,...l->...', pos-mu, Sig_inv,pos-mu)\n",
    "  return np.exp(-fac/2)/N"
   ]
  },
  {
   "cell_type": "code",
   "execution_count": 9,
   "metadata": {
    "collapsed": false,
    "pycharm": {
     "name": "#%%\n"
    }
   },
   "outputs": [],
   "source": [
    "global Gaussian_Matrix\n",
    "Gaussian_Matrix=[]"
   ]
  },
  {
   "cell_type": "code",
   "execution_count": 10,
   "metadata": {
    "collapsed": false,
    "pycharm": {
     "name": "#%%\n"
    }
   },
   "outputs": [],
   "source": [
    "def gauss(x,y):\n",
    "    mu = np.array([x,y])\n",
    "    Sigma = np.array([[50,0],[0,50]])\n",
    "    X=np.linspace(0,640,640)\n",
    "    Y=np.linspace(0,480,480)\n",
    "    X, Y = np.meshgrid(X,Y)\n",
    "    # print(X.shape+(2,))\n",
    "    pos = np.empty(X.shape+(2,))\n",
    "    pos[:,:,0] = X\n",
    "    pos[:,:,1] = Y\n",
    "    Z = multi_gaussian(pos, mu, Sigma)\n",
    "    # plt.imshow(Z)\n",
    "    # plt.show()\n",
    "    Gaussian_Matrix.append(Z)"
   ]
  },
  {
   "cell_type": "code",
   "execution_count": 11,
   "metadata": {
    "collapsed": false,
    "pycharm": {
     "name": "#%%\n"
    }
   },
   "outputs": [],
   "source": [
    "from tkinter import *\n",
    "from tkinter import filedialog\n",
    "import os\n",
    "import cv2\n",
    "import numpy as np\n",
    "import matplotlib.pyplot as plt\n",
    "\n",
    "def Capture_Events(event,x,y,flags,params):\n",
    "    if event == cv2.EVENT_LBUTTONDOWN:\n",
    "        gauss(x,y)\n",
    "\n",
    "if __name__ == \"__main__\":\n",
    "    fln=filedialog.askopenfilename(initialdir=os.getcwd(),title=\"Select Image File\",filetypes=((\"ALL FILES\",\"*\"),(\"JPG file\",\"*.jpg\"),(\"PNG file\",\"*.png\")))\n",
    "\n",
    "    img = cv2.imread(fln,1)\n",
    "\n",
    "    cv2.imshow('image',img)\n",
    "    cv2.setMouseCallback('image',Capture_Events)\n",
    "    cv2.waitKey(0)\n",
    "    cv2.destroyAllWindows()"
   ]
  },
  {
   "cell_type": "code",
   "execution_count": 12,
   "metadata": {
    "collapsed": false,
    "pycharm": {
     "name": "#%%\n"
    }
   },
   "outputs": [
    {
     "data": {
      "image/png": "[encoded data removed]",
      "text/plain": [
       "<Figure size 432x288 with 1 Axes>"
      ]
     },
     "metadata": {
      "needs_background": "light"
     },
     "output_type": "display_data"
    }
   ],
   "source": [
    "M1M2arr = np.sum(Gaussian_Matrix, axis=0)\n",
    "cb = plt.imshow(M1M2arr)\n",
    "plt.show()"
   ]
  },
  {
   "cell_type": "code",
   "execution_count": null,
   "metadata": {},
   "outputs": [],
   "source": []
  }
 ],
 "metadata": {
  "kernelspec": {
   "display_name": "Python 3.9.7 64-bit",
   "language": "python",
   "name": "python3"
  },
  "language_info": {
   "codemirror_mode": {
    "name": "ipython",
    "version": 3
   },
   "file_extension": ".py",
   "mimetype": "text/x-python",
   "name": "python",
   "nbconvert_exporter": "python",
   "pygments_lexer": "ipython3",
   "version": "3.9.7"
  },
  "vscode": {
   "interpreter": {
    "hash": "146ad12ad804e51233bd8e0e4750bbd5b1ea650c2a554e98761327ccb594fe93"
   }
  }
 },
 "nbformat": 4,
 "nbformat_minor": 0
}
