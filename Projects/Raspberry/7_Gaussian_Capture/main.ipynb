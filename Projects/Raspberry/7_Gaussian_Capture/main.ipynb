{
 "cells": [
  {
   "cell_type": "code",
   "execution_count": 1,
   "metadata": {},
   "outputs": [],
   "source": [
    "import matplotlib.pyplot as plt\n",
    "import numpy as np\n",
    "import os\n",
    "import cv2\n",
    "import cmath\n",
    "\n",
    "from tkinter import *\n",
    "from tkinter import filedialog\n",
    "from mpl_toolkits.mplot3d import Axes3D\n",
    "from matplotlib import cm"
   ]
  },
  {
   "cell_type": "code",
   "execution_count": 2,
   "metadata": {},
   "outputs": [],
   "source": [
    "def multi_gaussian(pos, mu, si):\n",
    "  \n",
    "    n = mu.shape[0]\n",
    "\n",
    "    Sig_det = np.linalg.det(si)\n",
    "    Sig_inv = np.linalg.inv(si)\n",
    "\n",
    "    N = np.sqrt((2 * np.pi)**n * Sig_det)\n",
    "\n",
    "    fac = np.einsum('...k,kl,...l->...', pos-mu, Sig_inv, pos-mu)\n",
    "    \n",
    "    return np.exp(-fac/2)/N\n",
    "\n",
    "def gauss(x, y):\n",
    "  \n",
    "    mu = np.array([x, y])\n",
    "    sd = np.std([640, 480])\n",
    "\n",
    "    Sigma = np.array([[sd, 0], [0, sd]])\n",
    "\n",
    "    X = np.linspace(0, 640, 640)\n",
    "    Y = np.linspace(0, 480, 480)\n",
    "\n",
    "    X, Y = np.meshgrid(X, Y)\n",
    "\n",
    "    pos = np.empty(X.shape + (2,))\n",
    "\n",
    "    pos[:, :, 0] = X\n",
    "    pos[:, :, 1] = Y\n",
    "\n",
    "    Z = multi_gaussian(pos, mu, Sigma)\n",
    "\n",
    "    Gaussian_Matrix.append(Z)"
   ]
  },
  {
   "cell_type": "code",
   "execution_count": 19,
   "metadata": {},
   "outputs": [],
   "source": [
    "global Gaussian_Matrix, All_Gaussian_Matrix\n",
    "\n",
    "Gaussian_Matrix = []\n",
    "All_Gaussian_Matrix = []\n",
    "\n",
    "l = os.listdir('../coordinate/')\n",
    "\n",
    "for i in range(300):\n",
    "\n",
    "    Gaussian_Matrix = []\n",
    "\n",
    "    f = open('../coordinate/' + l[i], 'r')\n",
    "    co = f.read().split('\\n')[:-1]\n",
    "\n",
    "    for j in co:\n",
    "        x, y = j.split(',')\n",
    "        gauss(int(x), int(y))\n",
    "\n",
    "    f.close()\n",
    "\n",
    "    M1M2arr = np.sum(Gaussian_Matrix, axis = 0)\n",
    "\n",
    "    path = '../gaussian/' + l[i].split('.')[0] + '.png'\n",
    "    plt.imsave(path, M1M2arr)"
   ]
  },
  {
   "cell_type": "code",
   "execution_count": null,
   "metadata": {},
   "outputs": [],
   "source": []
  }
 ],
 "metadata": {
  "kernelspec": {
   "display_name": "Python 3.9.7 64-bit",
   "language": "python",
   "name": "python3"
  },
  "language_info": {
   "codemirror_mode": {
    "name": "ipython",
    "version": 3
   },
   "file_extension": ".py",
   "mimetype": "text/x-python",
   "name": "python",
   "nbconvert_exporter": "python",
   "pygments_lexer": "ipython3",
   "version": "3.9.7"
  },
  "orig_nbformat": 4,
  "vscode": {
   "interpreter": {
    "hash": "146ad12ad804e51233bd8e0e4750bbd5b1ea650c2a554e98761327ccb594fe93"
   }
  }
 },
 "nbformat": 4,
 "nbformat_minor": 2
}
