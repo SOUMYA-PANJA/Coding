{
 "cells": [
  {
   "cell_type": "code",
   "execution_count": 1,
   "metadata": {
    "collapsed": true,
    "pycharm": {
     "name": "#%%\n"
    }
   },
   "outputs": [],
   "source": [
    "import matplotlib.pyplot as plt\n",
    "import numpy as np\n",
    "import os\n",
    "import cv2\n",
    "import cmath\n",
    "\n",
    "from tkinter import *\n",
    "from tkinter import filedialog\n",
    "from mpl_toolkits.mplot3d import Axes3D\n",
    "from matplotlib import cm"
   ]
  },
  {
   "cell_type": "code",
   "execution_count": null,
   "metadata": {},
   "outputs": [],
   "source": [
    "def multi_gaussian(pos, mu, si):\n",
    "  \n",
    "    n = mu.shape[0]\n",
    "\n",
    "    Sig_det = np.linalg.det(si)\n",
    "    Sig_inv = np.linalg.inv(si)\n",
    "\n",
    "    N = np.sqrt((2 * np.pi)**n * Sig_det)\n",
    "\n",
    "    fac = np.einsum('...k,kl,...l->...', pos-mu, Sig_inv, pos-mu)\n",
    "    \n",
    "    return np.exp(-fac/2)/N\n",
    "\n",
    "def gauss(x, y):\n",
    "  \n",
    "    mu = np.array([x, y])\n",
    "    sd = np.std([640, 480])\n",
    "\n",
    "    Sigma = np.array([[sd, 0], [0, sd]])\n",
    "\n",
    "    X = np.linspace(0, 640, 640)\n",
    "    Y = np.linspace(0, 480, 480)\n",
    "\n",
    "    X, Y = np.meshgrid(X, Y)\n",
    "\n",
    "    pos = np.empty(X.shape + (2,))\n",
    "\n",
    "    pos[:, :, 0] = X\n",
    "    pos[:, :, 1] = Y\n",
    "\n",
    "    Z = multi_gaussian(pos, mu, Sigma)\n",
    "\n",
    "    Gaussian_Matrix.append(Z)"
   ]
  },
  {
   "cell_type": "code",
   "execution_count": null,
   "metadata": {},
   "outputs": [],
   "source": [
    "global Gaussian_Matrix, All_Gaussian_Matrix, Fourier_Matrix\n",
    "\n",
    "Gaussian_Matrix = []\n",
    "All_Gaussian_Matrix = []\n",
    "Fourier_Matrix = []\n",
    "\n",
    "l = os.listdir('../coordinate/')\n",
    "stat = os.listdir('../static/')\n",
    "\n",
    "for i in range(10):\n",
    "\n",
    "    Gaussian_Matrix = []\n",
    "\n",
    "    f = open('../coordinate/' + l[i], 'r')\n",
    "\n",
    "    co = f.read().split('\\n')[: -1]\n",
    "\n",
    "    for j in co:\n",
    "        x, y = j.split(',')\n",
    "        gauss(int(x), int(y))\n",
    "\n",
    "    f.close()\n",
    "\n",
    "    path = '../static/' + stat[i]\n",
    "    img = cv2.imread(path, 0)\n",
    "    \n",
    "    M1M2arr = np.sum(Gaussian_Matrix, axis = 0)\n",
    "\n",
    "    M1M2arr = np.log(np.add(M1M2arr, 1))\n",
    "    img = np.log(np.add(img, 1))\n",
    "    # img = cv2.equalizeHist(img)\n",
    "\n",
    "    All_Gaussian_Matrix.append(np.fft.fft2(M1M2arr))\n",
    "    Fourier_Matrix.append(np.fft.fft2(img))\n",
    "\n",
    "\n",
    "H = []\n",
    "for i in range(len(All_Gaussian_Matrix)):\n",
    "    H.append(np.divide(All_Gaussian_Matrix[i], Fourier_Matrix[i]))\n",
    "\n",
    "H_avg = np.empty([480, 640])\n",
    "for i in range(len(H)):\n",
    "    H_avg = np.add(H_avg, H[i])\n",
    "H_avg /= len(H)"
   ]
  },
  {
   "cell_type": "code",
   "execution_count": null,
   "metadata": {},
   "outputs": [],
   "source": [
    "ig = cv2.imread(\"../static/file10.png\", 0)\n",
    "plt.imshow(ig)"
   ]
  },
  {
   "cell_type": "code",
   "execution_count": null,
   "metadata": {},
   "outputs": [],
   "source": [
    "f = np.multiply(np.fft.fft2(ig), H_avg)\n",
    "inv = np.fft.ifft2(f)\n",
    "plt.imshow(np.abs(inv))"
   ]
  }
 ],
 "metadata": {
  "kernelspec": {
   "display_name": "Python 3.9.7 64-bit",
   "language": "python",
   "name": "python3"
  },
  "language_info": {
   "codemirror_mode": {
    "name": "ipython",
    "version": 3
   },
   "file_extension": ".py",
   "mimetype": "text/x-python",
   "name": "python",
   "nbconvert_exporter": "python",
   "pygments_lexer": "ipython3",
   "version": "3.9.7"
  },
  "vscode": {
   "interpreter": {
    "hash": "146ad12ad804e51233bd8e0e4750bbd5b1ea650c2a554e98761327ccb594fe93"
   }
  }
 },
 "nbformat": 4,
 "nbformat_minor": 0
}
