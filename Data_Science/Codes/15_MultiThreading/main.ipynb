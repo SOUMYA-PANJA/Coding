{
 "cells": [
  {
   "cell_type": "code",
   "execution_count": 19,
   "metadata": {},
   "outputs": [],
   "source": [
    "import threading"
   ]
  },
  {
   "cell_type": "code",
   "execution_count": 20,
   "metadata": {},
   "outputs": [],
   "source": [
    "def test(id):\n",
    "    print(f\"The id is {id}.\")"
   ]
  },
  {
   "cell_type": "code",
   "execution_count": 21,
   "metadata": {},
   "outputs": [
    {
     "name": "stdout",
     "output_type": "stream",
     "text": [
      "The id is 45.\n"
     ]
    }
   ],
   "source": [
    "test(45)"
   ]
  },
  {
   "cell_type": "code",
   "execution_count": 22,
   "metadata": {},
   "outputs": [],
   "source": [
    "thread = [threading.Thread(target = test, args = (i,)) for i in range(10)]"
   ]
  },
  {
   "cell_type": "code",
   "execution_count": 23,
   "metadata": {},
   "outputs": [
    {
     "name": "stdout",
     "output_type": "stream",
     "text": [
      "[<Thread(Thread-36, initial)>, <Thread(Thread-37, initial)>, <Thread(Thread-38, initial)>, <Thread(Thread-39, initial)>, <Thread(Thread-40, initial)>, <Thread(Thread-41, initial)>, <Thread(Thread-42, initial)>, <Thread(Thread-43, initial)>, <Thread(Thread-44, initial)>, <Thread(Thread-45, initial)>]\n"
     ]
    }
   ],
   "source": [
    "print(thread)"
   ]
  },
  {
   "cell_type": "code",
   "execution_count": 24,
   "metadata": {},
   "outputs": [
    {
     "name": "stdout",
     "output_type": "stream",
     "text": [
      "The id is 0.\n",
      "The id is 1.\n",
      "The id is 2.\n",
      "The id is 3.\n",
      "The id is 4.\n",
      "The id is 5.\n",
      "The id is 6.\n",
      "The id is 7.\n",
      "The id is 8.\n",
      "The id is 9.\n"
     ]
    }
   ],
   "source": [
    "for i in thread:\n",
    "    i.start()"
   ]
  },
  {
   "cell_type": "code",
   "execution_count": 25,
   "metadata": {},
   "outputs": [
    {
     "name": "stdout",
     "output_type": "stream",
     "text": [
      "[<Thread(Thread-36, stopped 10392)>, <Thread(Thread-37, stopped 15556)>, <Thread(Thread-38, stopped 4364)>, <Thread(Thread-39, stopped 3604)>, <Thread(Thread-40, stopped 15760)>, <Thread(Thread-41, stopped 15048)>, <Thread(Thread-42, stopped 12392)>, <Thread(Thread-43, stopped 9292)>, <Thread(Thread-44, stopped 4144)>, <Thread(Thread-45, stopped 12972)>]\n"
     ]
    }
   ],
   "source": [
    "print(thread)"
   ]
  },
  {
   "cell_type": "code",
   "execution_count": 26,
   "metadata": {},
   "outputs": [
    {
     "name": "stdout",
     "output_type": "stream",
     "text": [
      "<class 'threading.Thread'>\n"
     ]
    }
   ],
   "source": [
    "print(type(thread[0]))"
   ]
  },
  {
   "cell_type": "code",
   "execution_count": null,
   "metadata": {},
   "outputs": [],
   "source": [
    "import time\n",
    "def test(id) :\n",
    "    for i in range(10) : \n",
    "        print(\"test1 %d printing %d %s\" %(id, i, time.ctime()))\n",
    "        time.sleep(1)"
   ]
  },
  {
   "cell_type": "code",
   "execution_count": 29,
   "metadata": {},
   "outputs": [
    {
     "name": "stdout",
     "output_type": "stream",
     "text": [
      "test1 0 printing 0 Tue Feb 21 23:12:01 2023\n",
      "test1 0 printing 1 Tue Feb 21 23:12:03 2023\n",
      "test1 0 printing 2 Tue Feb 21 23:12:05 2023\n",
      "test1 0 printing 3 Tue Feb 21 23:12:07 2023\n",
      "test1 0 printing 4 Tue Feb 21 23:12:09 2023\n",
      "test1 0 printing 5 Tue Feb 21 23:12:11 2023\n",
      "test1 0 printing 6 Tue Feb 21 23:12:13 2023\n",
      "test1 0 printing 7 Tue Feb 21 23:12:15 2023\n",
      "test1 0 printing 8 Tue Feb 21 23:12:17 2023\n",
      "test1 0 printing 9 Tue Feb 21 23:12:19 2023\n"
     ]
    }
   ],
   "source": [
    "test(0)"
   ]
  },
  {
   "cell_type": "code",
   "execution_count": 30,
   "metadata": {},
   "outputs": [],
   "source": [
    "thread = [threading.Thread(target = test, args = (i,)) for i in range(10)]"
   ]
  },
  {
   "cell_type": "code",
   "execution_count": 31,
   "metadata": {},
   "outputs": [
    {
     "name": "stdout",
     "output_type": "stream",
     "text": [
      "test1 0 printing 0 Tue Feb 21 23:12:59 2023\n",
      "test1 1 printing 0 Tue Feb 21 23:12:59 2023\n",
      "test1 2 printing 0 Tue Feb 21 23:12:59 2023\n",
      "test1 3 printing 0 Tue Feb 21 23:12:59 2023\n",
      "test1 4 printing 0 Tue Feb 21 23:12:59 2023\n",
      "test1 5 printing 0 Tue Feb 21 23:12:59 2023\n",
      "test1 6 printing 0 Tue Feb 21 23:12:59 2023\n",
      "test1 7 printing 0 Tue Feb 21 23:12:59 2023\n",
      "test1 8 printing 0 Tue Feb 21 23:12:59 2023\n",
      "test1 9 printing 0 Tue Feb 21 23:12:59 2023\n"
     ]
    },
    {
     "name": "stdout",
     "output_type": "stream",
     "text": [
      "test1 2 printing 1 Tue Feb 21 23:13:01 2023test1 1 printing 1 Tue Feb 21 23:13:01 2023\n",
      "\n",
      "test1 3 printing 1 Tue Feb 21 23:13:01 2023\n",
      "test1 0 printing 1 Tue Feb 21 23:13:01 2023\n",
      "test1 8 printing 1 Tue Feb 21 23:13:01 2023test1 7 printing 1 Tue Feb 21 23:13:01 2023\n",
      "test1 5 printing 1 Tue Feb 21 23:13:01 2023\n",
      "test1 6 printing 1 Tue Feb 21 23:13:01 2023\n",
      "test1 4 printing 1 Tue Feb 21 23:13:01 2023test1 9 printing 1 Tue Feb 21 23:13:01 2023\n",
      "\n",
      "\n",
      "test1 1 printing 2 Tue Feb 21 23:13:03 2023test1 0 printing 2 Tue Feb 21 23:13:03 2023test1 2 printing 2 Tue Feb 21 23:13:03 2023\n",
      "\n",
      "test1 3 printing 2 Tue Feb 21 23:13:03 2023\n",
      "\n",
      "test1 9 printing 2 Tue Feb 21 23:13:03 2023\n",
      "test1 4 printing 2 Tue Feb 21 23:13:03 2023\n",
      "test1 8 printing 2 Tue Feb 21 23:13:03 2023\n",
      "test1 7 printing 2 Tue Feb 21 23:13:03 2023\n",
      "test1 5 printing 2 Tue Feb 21 23:13:03 2023\n",
      "test1 6 printing 2 Tue Feb 21 23:13:03 2023\n",
      "test1 1 printing 3 Tue Feb 21 23:13:05 2023test1 3 printing 3 Tue Feb 21 23:13:05 2023test1 2 printing 3 Tue Feb 21 23:13:05 2023\n",
      "test1 0 printing 3 Tue Feb 21 23:13:05 2023\n",
      "\n",
      "\n",
      "test1 5 printing 3 Tue Feb 21 23:13:05 2023\n",
      "test1 8 printing 3 Tue Feb 21 23:13:05 2023\n",
      "test1 4 printing 3 Tue Feb 21 23:13:05 2023test1 9 printing 3 Tue Feb 21 23:13:05 2023\n",
      "test1 7 printing 3 Tue Feb 21 23:13:05 2023\n",
      "\n",
      "test1 6 printing 3 Tue Feb 21 23:13:05 2023\n",
      "test1 3 printing 4 Tue Feb 21 23:13:07 2023test1 1 printing 4 Tue Feb 21 23:13:07 2023\n",
      "test1 0 printing 4 Tue Feb 21 23:13:07 2023test1 2 printing 4 Tue Feb 21 23:13:07 2023\n",
      "\n",
      "\n",
      "test1 7 printing 4 Tue Feb 21 23:13:07 2023test1 4 printing 4 Tue Feb 21 23:13:07 2023\n",
      "test1 5 printing 4 Tue Feb 21 23:13:07 2023\n",
      "\n",
      "test1 6 printing 4 Tue Feb 21 23:13:07 2023\n",
      "test1 8 printing 4 Tue Feb 21 23:13:07 2023test1 9 printing 4 Tue Feb 21 23:13:07 2023\n",
      "\n",
      "test1 1 printing 5 Tue Feb 21 23:13:09 2023test1 2 printing 5 Tue Feb 21 23:13:09 2023\n",
      "test1 0 printing 5 Tue Feb 21 23:13:09 2023\n",
      "test1 3 printing 5 Tue Feb 21 23:13:09 2023\n",
      "\n",
      "test1 6 printing 5 Tue Feb 21 23:13:09 2023test1 7 printing 5 Tue Feb 21 23:13:09 2023test1 9 printing 5 Tue Feb 21 23:13:09 2023test1 8 printing 5 Tue Feb 21 23:13:09 2023\n",
      "test1 4 printing 5 Tue Feb 21 23:13:09 2023\n",
      "\n",
      "test1 5 printing 5 Tue Feb 21 23:13:09 2023\n",
      "\n",
      "\n",
      "test1 1 printing 6 Tue Feb 21 23:13:11 2023test1 3 printing 6 Tue Feb 21 23:13:11 2023test1 0 printing 6 Tue Feb 21 23:13:11 2023\n",
      "test1 2 printing 6 Tue Feb 21 23:13:11 2023\n",
      "\n",
      "\n",
      "test1 4 printing 6 Tue Feb 21 23:13:11 2023test1 7 printing 6 Tue Feb 21 23:13:11 2023\n",
      "\n",
      "test1 5 printing 6 Tue Feb 21 23:13:11 2023test1 8 printing 6 Tue Feb 21 23:13:11 2023test1 6 printing 6 Tue Feb 21 23:13:11 2023\n",
      "\n",
      "test1 9 printing 6 Tue Feb 21 23:13:11 2023\n",
      "\n",
      "test1 2 printing 7 Tue Feb 21 23:13:13 2023test1 1 printing 7 Tue Feb 21 23:13:13 2023test1 3 printing 7 Tue Feb 21 23:13:13 2023test1 0 printing 7 Tue Feb 21 23:13:13 2023\n",
      "\n",
      "\n",
      "\n",
      "test1 6 printing 7 Tue Feb 21 23:13:13 2023test1 8 printing 7 Tue Feb 21 23:13:13 2023\n",
      "test1 7 printing 7 Tue Feb 21 23:13:13 2023\n",
      "test1 4 printing 7 Tue Feb 21 23:13:13 2023\n",
      "test1 9 printing 7 Tue Feb 21 23:13:13 2023\n",
      "\n",
      "test1 5 printing 7 Tue Feb 21 23:13:13 2023\n",
      "test1 3 printing 8 Tue Feb 21 23:13:15 2023test1 0 printing 8 Tue Feb 21 23:13:15 2023test1 1 printing 8 Tue Feb 21 23:13:15 2023\n",
      "\n",
      "\n",
      "test1 2 printing 8 Tue Feb 21 23:13:15 2023\n",
      "test1 9 printing 8 Tue Feb 21 23:13:15 2023test1 5 printing 8 Tue Feb 21 23:13:15 2023test1 4 printing 8 Tue Feb 21 23:13:15 2023test1 8 printing 8 Tue Feb 21 23:13:15 2023test1 7 printing 8 Tue Feb 21 23:13:15 2023\n",
      "\n",
      "test1 6 printing 8 Tue Feb 21 23:13:15 2023\n",
      "\n",
      "\n",
      "\n",
      "test1 1 printing 9 Tue Feb 21 23:13:17 2023test1 0 printing 9 Tue Feb 21 23:13:17 2023\n",
      "test1 3 printing 9 Tue Feb 21 23:13:17 2023test1 2 printing 9 Tue Feb 21 23:13:17 2023\n",
      "\n",
      "\n",
      "test1 5 printing 9 Tue Feb 21 23:13:17 2023test1 9 printing 9 Tue Feb 21 23:13:17 2023\n",
      "test1 8 printing 9 Tue Feb 21 23:13:17 2023test1 7 printing 9 Tue Feb 21 23:13:17 2023\n",
      "test1 6 printing 9 Tue Feb 21 23:13:17 2023\n",
      "\n",
      "\n",
      "test1 4 printing 9 Tue Feb 21 23:13:17 2023\n"
     ]
    }
   ],
   "source": [
    "for t in thread:\n",
    "    t.start()"
   ]
  },
  {
   "cell_type": "code",
   "execution_count": 40,
   "metadata": {},
   "outputs": [
    {
     "name": "stdout",
     "output_type": "stream",
     "text": [
      "test is 0 has increased the shared variable to 1 \n"
     ]
    },
    {
     "name": "stdout",
     "output_type": "stream",
     "text": [
      "test is 1 has increased the shared variable to 2 \n",
      "test is 2 has increased the shared variable to 3 \n"
     ]
    }
   ],
   "source": [
    "shared_var = 0\n",
    "lock_var = threading.Lock()\n",
    "\n",
    "def test(id) : \n",
    "    global shared_var\n",
    "    with lock_var:\n",
    "        shared_var = shared_var + 1\n",
    "        print(\"test is %d has increased the shared variable to %d \" %(id, shared_var))\n",
    "        time.sleep(3)\n",
    "thread = [threading.Thread(target=test , args = (i,)) for i in range(3)]    \n",
    "for t in thread:\n",
    "    t.start()"
   ]
  },
  {
   "cell_type": "code",
   "execution_count": 45,
   "metadata": {},
   "outputs": [
    {
     "name": "stdout",
     "output_type": "stream",
     "text": [
      "test is 0 has increased the shared variable to 1 \n",
      "test is 1 has increased the shared variable to 0 \n",
      "test is 2 has increased the shared variable to 1 \n",
      "1\n"
     ]
    }
   ],
   "source": [
    "shared_var = 0\n",
    "# lock_var = threading.Lock()\n",
    "\n",
    "def test(id): \n",
    "    global shared_var\n",
    "    shared_var = shared_var + (-1)**id\n",
    "    print(\"test is %d has increased the shared variable to %d \" %(id, shared_var))\n",
    "    time.sleep(3)\n",
    "    shared_var = shared_var + (-1)**id\n",
    "thread = [threading.Thread(target=test , args = (i,)) for i in range(3)]    \n",
    "for t in thread:\n",
    "    t.start()\n",
    "print(shared_var)"
   ]
  },
  {
   "cell_type": "code",
   "execution_count": null,
   "metadata": {},
   "outputs": [],
   "source": []
  }
 ],
 "metadata": {
  "kernelspec": {
   "display_name": "Python 3",
   "language": "python",
   "name": "python3"
  },
  "language_info": {
   "codemirror_mode": {
    "name": "ipython",
    "version": 3
   },
   "file_extension": ".py",
   "mimetype": "text/x-python",
   "name": "python",
   "nbconvert_exporter": "python",
   "pygments_lexer": "ipython3",
   "version": "3.9.7"
  },
  "orig_nbformat": 4,
  "vscode": {
   "interpreter": {
    "hash": "146ad12ad804e51233bd8e0e4750bbd5b1ea650c2a554e98761327ccb594fe93"
   }
  }
 },
 "nbformat": 4,
 "nbformat_minor": 2
}
