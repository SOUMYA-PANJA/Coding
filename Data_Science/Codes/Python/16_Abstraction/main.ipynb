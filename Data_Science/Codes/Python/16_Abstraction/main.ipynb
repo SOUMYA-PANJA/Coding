{
 "cells": [
  {
   "cell_type": "code",
   "execution_count": 1,
   "metadata": {},
   "outputs": [],
   "source": [
    "import abc"
   ]
  },
  {
   "cell_type": "code",
   "execution_count": 3,
   "metadata": {},
   "outputs": [],
   "source": [
    "class Animal:\n",
    "\n",
    "    @abc.abstractmethod\n",
    "    def Sound(self):\n",
    "        pass\n",
    "    \n",
    "    @abc.abstractmethod\n",
    "    def Run(self):\n",
    "        pass"
   ]
  },
  {
   "cell_type": "code",
   "execution_count": 4,
   "metadata": {},
   "outputs": [],
   "source": [
    "class Dog(Animal):\n",
    "\n",
    "    def Run(self):\n",
    "        print(\"Dog running.\")\n",
    "\n",
    "    def Sound(self):\n",
    "        print(\"Barking\")\n",
    "\n",
    "class Cat(Animal):\n",
    "\n",
    "    def Run(self):\n",
    "        print(\"Cat running.\")\n",
    "    \n",
    "    def Sound(self):\n",
    "        print(\"Mewing\")"
   ]
  },
  {
   "cell_type": "code",
   "execution_count": 5,
   "metadata": {},
   "outputs": [
    {
     "name": "stdout",
     "output_type": "stream",
     "text": [
      "Dog running.\n",
      "Barking\n",
      "Cat running.\n",
      "Mewing\n"
     ]
    }
   ],
   "source": [
    "obj1 = Dog()\n",
    "obj2 = Cat()\n",
    "\n",
    "obj1.Run()\n",
    "obj1.Sound()\n",
    "\n",
    "obj2.Run()\n",
    "obj2.Sound()"
   ]
  },
  {
   "cell_type": "code",
   "execution_count": null,
   "metadata": {},
   "outputs": [],
   "source": []
  }
 ],
 "metadata": {
  "kernelspec": {
   "display_name": "Python 3",
   "language": "python",
   "name": "python3"
  },
  "language_info": {
   "codemirror_mode": {
    "name": "ipython",
    "version": 3
   },
   "file_extension": ".py",
   "mimetype": "text/x-python",
   "name": "python",
   "nbconvert_exporter": "python",
   "pygments_lexer": "ipython3",
   "version": "3.9.7"
  },
  "orig_nbformat": 4,
  "vscode": {
   "interpreter": {
    "hash": "146ad12ad804e51233bd8e0e4750bbd5b1ea650c2a554e98761327ccb594fe93"
   }
  }
 },
 "nbformat": 4,
 "nbformat_minor": 2
}
