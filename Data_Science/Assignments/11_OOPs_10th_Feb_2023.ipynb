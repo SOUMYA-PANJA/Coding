{
 "cells": [
  {
   "attachments": {},
   "cell_type": "markdown",
   "metadata": {},
   "source": [
    "# Question 1"
   ]
  },
  {
   "attachments": {},
   "cell_type": "markdown",
   "metadata": {},
   "source": [
    "#### open() fucntion is used to open a file.\n",
    "#### Read Only (‘r’) : Open text file for reading. The handle is positioned at the beginning of the file. If the file does not exists, raises the I/O error. This is also the default mode in which a file is opened.\n",
    "#### Read and Write (‘r+’): Open the file for reading and writing. The handle is positioned at the beginning of the file. Raises I/O error if the file does not exist.\n",
    "#### Write Only (‘w’) : Open the file for writing. For the existing files, the data is truncated and over-written. The handle is positioned at the beginning of the file. Creates the file if the file does not exist.\n",
    "#### Write and Read (‘w+’) : Open the file for reading and writing. For an existing file, data is truncated and over-written. The handle is positioned at the beginning of the file.\n",
    "#### Append Only (‘a’): Open the file for writing. The file is created if it does not exist. The handle is positioned at the end of the file. The data being written will be inserted at the end, after the existing data.\n",
    "#### Append and Read (‘a+’) : Open the file for reading and writing. The file is created if it does not exist. The handle is positioned at the end of the file. The data being written will be inserted at the end, after the existing data."
   ]
  },
  {
   "attachments": {},
   "cell_type": "markdown",
   "metadata": {},
   "source": [
    "# Question 2"
   ]
  },
  {
   "attachments": {},
   "cell_type": "markdown",
   "metadata": {},
   "source": [
    "#### close() function is used to close a file and deallocate the resorces of that file in the program.\n",
    "#### Because files are limited resources managed by the operating system, making sure files are closed after use will protect against hard-to-debug issues like running out of file handles or experiencing corrupted data."
   ]
  },
  {
   "attachments": {},
   "cell_type": "markdown",
   "metadata": {},
   "source": [
    "# Question 3"
   ]
  },
  {
   "cell_type": "code",
   "execution_count": 1,
   "metadata": {},
   "outputs": [],
   "source": [
    "f = open(\"11_OOPs_10th_Feb_2023_1.txt\", \"w\")\n",
    "f.write(\"I want to become a Data Scientist.\")\n",
    "f.close()"
   ]
  },
  {
   "cell_type": "code",
   "execution_count": 2,
   "metadata": {},
   "outputs": [
    {
     "name": "stdout",
     "output_type": "stream",
     "text": [
      "I want to become a Data Scientist.\n"
     ]
    }
   ],
   "source": [
    "with open(\"11_OOPs_10th_Feb_2023_1.txt\", \"r\") as f:\n",
    "    data = f.read()\n",
    "    print(data)"
   ]
  },
  {
   "attachments": {},
   "cell_type": "markdown",
   "metadata": {},
   "source": [
    "# Question 4"
   ]
  },
  {
   "attachments": {},
   "cell_type": "markdown",
   "metadata": {},
   "source": [
    "#### read(): The read() method returns the specified number of bytes from the file. Default is -1 which means the whole file."
   ]
  },
  {
   "cell_type": "code",
   "execution_count": 9,
   "metadata": {},
   "outputs": [
    {
     "name": "stdout",
     "output_type": "stream",
     "text": [
      "Print 1:\n",
      "Hello World.\n",
      "How are You.\n",
      "Have a nice Day.\n",
      "\n",
      "Print 2:\n",
      "Hello World.\n",
      "How a\n",
      "\n",
      "Print 3: <class 'str'>\n"
     ]
    }
   ],
   "source": [
    "with open(\"11_OOPs_10th_Feb_2023_2.txt\", \"r\") as f:\n",
    "    print(\"Print 1:\", f.read(), sep = \"\\n\", end = \"\\n\\n\")\n",
    "    f.seek(0)\n",
    "    print(\"Print 2:\", f.read(18), sep = \"\\n\", end = \"\\n\\n\")\n",
    "    print(\"Print 3:\", type(f.read()))"
   ]
  },
  {
   "attachments": {},
   "cell_type": "markdown",
   "metadata": {},
   "source": [
    "#### readline(): The readline() method returns one line from the file. You can also specified how many bytes from the line to return, by using the size parameter."
   ]
  },
  {
   "cell_type": "code",
   "execution_count": 12,
   "metadata": {},
   "outputs": [
    {
     "name": "stdout",
     "output_type": "stream",
     "text": [
      "Print 1:\n",
      "Hello World.\n",
      "\n",
      "\n",
      "Print 2:\n",
      "Hello W\n",
      "\n",
      "Print 3: <class 'str'>\n"
     ]
    }
   ],
   "source": [
    "with open(\"11_OOPs_10th_Feb_2023_2.txt\", \"r\") as f:\n",
    "    print(\"Print 1:\", f.readline(), sep = \"\\n\", end = \"\\n\\n\")\n",
    "    f.seek(0)\n",
    "    print(\"Print 2:\", f.readline(7), sep = \"\\n\", end = \"\\n\\n\")\n",
    "    print(\"Print 3:\", type(f.readline()))"
   ]
  },
  {
   "attachments": {},
   "cell_type": "markdown",
   "metadata": {},
   "source": [
    "#### readlines(): The readlines() method returns a list containing each line in the file as a list item. Use the hint parameter to limit the number of lines returned. If the total number of bytes returned exceeds the specified number, no more lines are returned."
   ]
  },
  {
   "cell_type": "code",
   "execution_count": 13,
   "metadata": {},
   "outputs": [
    {
     "name": "stdout",
     "output_type": "stream",
     "text": [
      "Print 1:\n",
      "['Hello World.\\n', 'How are You.\\n', 'Have a nice Day.']\n",
      "\n",
      "Print 2:\n",
      "['Hello World.\\n', 'How are You.\\n']\n",
      "\n",
      "Print 3: <class 'list'>\n"
     ]
    }
   ],
   "source": [
    "with open(\"11_OOPs_10th_Feb_2023_2.txt\", \"r\") as f:\n",
    "    print(\"Print 1:\", f.readlines(), sep = \"\\n\", end = \"\\n\\n\")\n",
    "    f.seek(0)\n",
    "    print(\"Print 2:\", f.readlines(18), sep = \"\\n\", end = \"\\n\\n\")\n",
    "    print(\"Print 3:\", type(f.readlines()))"
   ]
  },
  {
   "attachments": {},
   "cell_type": "markdown",
   "metadata": {},
   "source": [
    "# Question 5"
   ]
  },
  {
   "attachments": {},
   "cell_type": "markdown",
   "metadata": {},
   "source": [
    "#### The with statement works with the open() function to open a file. Unlike open() where you have to close the file with the close() method, the with statement closes the file for you without you telling it to. This is because the with statement calls 2 built-in methods behind the scene – __enter()__ and __exit()__ .\n",
    "#### The advantage of using a with statement is that it is guaranteed to close the file no matter how the nested block exits. If an exception occurs before the end of the block, it will close the file before the exception is caught by an outer exception handler."
   ]
  },
  {
   "attachments": {},
   "cell_type": "markdown",
   "metadata": {},
   "source": [
    "# Question 6"
   ]
  },
  {
   "attachments": {},
   "cell_type": "markdown",
   "metadata": {},
   "source": [
    "#### write(): The write() method writes a specified text to the file. Where the specified text will be inserted depends on the file mode and stream position."
   ]
  },
  {
   "cell_type": "code",
   "execution_count": 15,
   "metadata": {},
   "outputs": [
    {
     "name": "stdout",
     "output_type": "stream",
     "text": [
      "Hello World.\n",
      "How Are you?\n"
     ]
    }
   ],
   "source": [
    "with open(\"11_OOPs_10th_Feb_2023_3.txt\", \"w+\") as f:\n",
    "    f.write(\"Hello World.\\nHow Are you?\")\n",
    "    f.seek(0)\n",
    "    print(f.read())"
   ]
  },
  {
   "attachments": {},
   "cell_type": "markdown",
   "metadata": {},
   "source": [
    "#### writelines(): The writelines() method writes the items of a list to the file. Where the texts will be inserted depends on the file mode and stream position."
   ]
  },
  {
   "cell_type": "code",
   "execution_count": 17,
   "metadata": {},
   "outputs": [
    {
     "name": "stdout",
     "output_type": "stream",
     "text": [
      "Hello World\n",
      "How are you?Have nice day\n"
     ]
    }
   ],
   "source": [
    "with open(\"11_OOPs_10th_Feb_2023_3.txt\", \"w+\") as f:\n",
    "    lst = [\"Hello World\\n\", \"How are you?\", \"Have nice day\"]\n",
    "    f.writelines(lst)\n",
    "    f.seek(0)\n",
    "    print(f.read())"
   ]
  },
  {
   "cell_type": "code",
   "execution_count": null,
   "metadata": {},
   "outputs": [],
   "source": []
  }
 ],
 "metadata": {
  "kernelspec": {
   "display_name": "Python 3",
   "language": "python",
   "name": "python3"
  },
  "language_info": {
   "codemirror_mode": {
    "name": "ipython",
    "version": 3
   },
   "file_extension": ".py",
   "mimetype": "text/x-python",
   "name": "python",
   "nbconvert_exporter": "python",
   "pygments_lexer": "ipython3",
   "version": "3.9.7"
  },
  "orig_nbformat": 4,
  "vscode": {
   "interpreter": {
    "hash": "146ad12ad804e51233bd8e0e4750bbd5b1ea650c2a554e98761327ccb594fe93"
   }
  }
 },
 "nbformat": 4,
 "nbformat_minor": 2
}
