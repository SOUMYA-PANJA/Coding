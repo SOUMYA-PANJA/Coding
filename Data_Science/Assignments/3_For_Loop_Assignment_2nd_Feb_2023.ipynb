{
 "cells": [
  {
   "attachments": {},
   "cell_type": "markdown",
   "metadata": {},
   "source": [
    "# Question 1"
   ]
  },
  {
   "attachments": {},
   "cell_type": "markdown",
   "metadata": {},
   "source": [
    "#### For loop is used when we know that how many times we need to run the block of code. e.g., Print first 10 natural numbers."
   ]
  },
  {
   "cell_type": "code",
   "execution_count": 1,
   "metadata": {},
   "outputs": [
    {
     "name": "stdout",
     "output_type": "stream",
     "text": [
      "1\n",
      "2\n",
      "3\n",
      "4\n",
      "5\n",
      "6\n",
      "7\n",
      "8\n",
      "9\n",
      "10\n"
     ]
    }
   ],
   "source": [
    "for i in range(10):\n",
    "    print(i + 1)"
   ]
  },
  {
   "attachments": {},
   "cell_type": "markdown",
   "metadata": {},
   "source": [
    "#### We use for while loop when we want to run a block of code till a given condtion is true. After the condtion become false, the loop will get terminated."
   ]
  },
  {
   "cell_type": "code",
   "execution_count": 2,
   "metadata": {},
   "outputs": [
    {
     "name": "stdout",
     "output_type": "stream",
     "text": [
      "Adult. Age = 18\n",
      "Adult. Age = 19\n",
      "Adult. Age = 20\n"
     ]
    }
   ],
   "source": [
    "age = int(input(\"Enter age: \"))\n",
    "while(age >= 18):\n",
    "    print(f\"Adult. Age = {age}\")\n",
    "    age = int(input(\"Enter age again: \"))"
   ]
  },
  {
   "attachments": {},
   "cell_type": "markdown",
   "metadata": {},
   "source": [
    "# Question 2"
   ]
  },
  {
   "cell_type": "code",
   "execution_count": 6,
   "metadata": {},
   "outputs": [
    {
     "name": "stdout",
     "output_type": "stream",
     "text": [
      "Sum: 55\n",
      "Product: 3628800\n"
     ]
    }
   ],
   "source": [
    "sum = 0\n",
    "product = 1\n",
    "\n",
    "for i in range(10):\n",
    "    sum += (i + 1)\n",
    "    product *= (i + 1)\n",
    "\n",
    "print(f\"Sum: {sum}\")\n",
    "print(f\"Product: {product}\")"
   ]
  },
  {
   "cell_type": "code",
   "execution_count": 8,
   "metadata": {},
   "outputs": [
    {
     "name": "stdout",
     "output_type": "stream",
     "text": [
      "Sum: 55\n",
      "Product: 3628800\n"
     ]
    }
   ],
   "source": [
    "sum = 0\n",
    "product = 1\n",
    "i = 10\n",
    "\n",
    "while(i > 0):\n",
    "    sum += i\n",
    "    product *= i\n",
    "    i -= 1\n",
    "\n",
    "print(f\"Sum: {sum}\")\n",
    "print(f\"Product: {product}\")"
   ]
  },
  {
   "attachments": {},
   "cell_type": "markdown",
   "metadata": {},
   "source": [
    "# Question 3"
   ]
  },
  {
   "cell_type": "code",
   "execution_count": 10,
   "metadata": {},
   "outputs": [
    {
     "name": "stdout",
     "output_type": "stream",
     "text": [
      "Bill: 2250.0\n"
     ]
    }
   ],
   "source": [
    "unitConsumption = int(input(\"Enter units of electricity consumed: \"))\n",
    "bill = 0\n",
    "\n",
    "if unitConsumption > 300:\n",
    "    bill += (unitConsumption - 300) * 20\n",
    "    unitConsumption = 300\n",
    "\n",
    "if unitConsumption > 200:\n",
    "    bill += (unitConsumption - 200) * 10\n",
    "    unitConsumption = 200\n",
    "\n",
    "if unitConsumption > 100:\n",
    "    bill += (unitConsumption - 100) * 6\n",
    "    unitConsumption = 100\n",
    "\n",
    "if unitConsumption:\n",
    "    bill += unitConsumption * 4.5\n",
    "\n",
    "print(\"Bill:\", bill)"
   ]
  },
  {
   "attachments": {},
   "cell_type": "markdown",
   "metadata": {},
   "source": [
    "# Question 4"
   ]
  },
  {
   "cell_type": "code",
   "execution_count": 16,
   "metadata": {},
   "outputs": [
    {
     "name": "stdout",
     "output_type": "stream",
     "text": [
      "[2, 4, 5, 6, 8, 10, 12, 14, 15, 16, 18, 20, 22, 24, 25, 26, 28, 30, 32, 34, 35, 36, 38, 40, 42, 44, 45, 46, 48, 50, 52, 54, 55, 56, 58, 60, 62, 64, 65, 66, 68, 70, 72, 74, 75, 76, 78, 80, 82, 84, 85, 86, 88, 90, 92, 94, 95, 96, 98, 100]\n",
      "[2, 4, 5, 6, 8, 10, 12, 14, 15, 16, 18, 20, 22, 24, 25, 26, 28, 30, 32, 34, 35, 36, 38, 40, 42, 44, 45, 46, 48, 50, 52, 54, 55, 56, 58, 60, 62, 64, 65, 66, 68, 70, 72, 74, 75, 76, 78, 80, 82, 84, 85, 86, 88, 90, 92, 94, 95, 96, 98, 100]\n"
     ]
    }
   ],
   "source": [
    "numList = list(range(1, 101))\n",
    "cubeListFor = []\n",
    "cubeListWhile = []\n",
    "\n",
    "for i in numList:\n",
    "    if i**3 % 4 == 0 or i**3 % 5 == 0:\n",
    "        cubeListFor.append(i)\n",
    "\n",
    "i = 0\n",
    "while(i < len(numList)):\n",
    "    if numList[i]**3 % 4 == 0 or numList[i]**3 % 5 == 0:\n",
    "        cubeListWhile.append(numList[i])\n",
    "    i += 1\n",
    "\n",
    "print(cubeListFor)\n",
    "print(cubeListWhile)"
   ]
  },
  {
   "attachments": {},
   "cell_type": "markdown",
   "metadata": {},
   "source": [
    "# Question 5"
   ]
  },
  {
   "cell_type": "code",
   "execution_count": 23,
   "metadata": {},
   "outputs": [
    {
     "name": "stdout",
     "output_type": "stream",
     "text": [
      "Vowels are: a o e o e a a a i e i \n",
      "Count of vowels: 11\n"
     ]
    }
   ],
   "source": [
    "string = \"I want to become a data scientist\"\n",
    "count = 0\n",
    "\n",
    "print(\"Vowels are: \", end = \"\")\n",
    "for i in string:\n",
    "    if i in ['a', 'e', 'i', 'o', 'u']:\n",
    "        count += 1\n",
    "        print(i, end = ' ')\n",
    "\n",
    "print(\"\\nCount of vowels:\", count)"
   ]
  },
  {
   "cell_type": "code",
   "execution_count": null,
   "metadata": {},
   "outputs": [],
   "source": []
  }
 ],
 "metadata": {
  "kernelspec": {
   "display_name": "Python 3",
   "language": "python",
   "name": "python3"
  },
  "language_info": {
   "codemirror_mode": {
    "name": "ipython",
    "version": 3
   },
   "file_extension": ".py",
   "mimetype": "text/x-python",
   "name": "python",
   "nbconvert_exporter": "python",
   "pygments_lexer": "ipython3",
   "version": "3.9.7"
  },
  "orig_nbformat": 4,
  "vscode": {
   "interpreter": {
    "hash": "146ad12ad804e51233bd8e0e4750bbd5b1ea650c2a554e98761327ccb594fe93"
   }
  }
 },
 "nbformat": 4,
 "nbformat_minor": 2
}
