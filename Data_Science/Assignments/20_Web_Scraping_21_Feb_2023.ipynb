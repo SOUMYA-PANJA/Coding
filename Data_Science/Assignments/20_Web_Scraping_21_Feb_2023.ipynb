{
 "cells": [
  {
   "attachments": {},
   "cell_type": "markdown",
   "metadata": {},
   "source": [
    "# Question 1"
   ]
  },
  {
   "attachments": {},
   "cell_type": "markdown",
   "metadata": {},
   "source": [
    "#### Web scraping is an automatic method to obtain large amounts of data from websites. Most of this data is unstructured data in an HTML format which is then converted into structured data in a spreadsheet or a database so that it can be used in various applications.\n",
    "### Why it is used?\n",
    "#### Many large websites, like Google, Twitter, Facebook, StackOverflow, etc. have API’s that allow you to access their data in a structured format. This is the best option, but there are other sites that don’t allow users to access large amounts of data in a structured form or they are simply not that technologically advanced. In that situation, it’s best to use Web Scraping to scrape the website for data.\n",
    "### Uses:\n",
    "#### Research for web content/business intelligence\n",
    "#### Pricing for travel booker sites/price comparison sites\n",
    "#### Finding sales leads/conducting market research by crawling public data sources (e.g. Yell and Twitter)\n",
    "#### Sending product data from an e-commerce site to another online vendor (e.g. Google Shopping)\n"
   ]
  },
  {
   "attachments": {},
   "cell_type": "markdown",
   "metadata": {},
   "source": [
    "# Question 2"
   ]
  },
  {
   "attachments": {},
   "cell_type": "markdown",
   "metadata": {},
   "source": [
    "#### HTML Parsing\n",
    "#### DOM Parsing\n",
    "#### Vertical Aggregation\n",
    "#### XPath\n",
    "#### Google Sheets"
   ]
  },
  {
   "attachments": {},
   "cell_type": "markdown",
   "metadata": {},
   "source": [
    "# Question 3"
   ]
  },
  {
   "attachments": {},
   "cell_type": "markdown",
   "metadata": {},
   "source": [
    "#### Beautiful Soup is a Python library for pulling data out of HTML and XML files. It works with your favorite parser to provide idiomatic ways of navigating, searching, and modifying the parse tree. It commonly saves programmers hours or days of work.\n",
    "### Uses:\n",
    "#### Beautiful Soup provides a few simple methods and Pythonic idioms for navigating, searching, and modifying a parse tree: a toolkit for dissecting a document and extracting what you need. It doesn't take much code to write an application\n",
    "#### Beautiful Soup automatically converts incoming documents to Unicode and outgoing documents to UTF-8. You don't have to think about encodings, unless the document doesn't specify an encoding and Beautiful Soup can't detect one. Then you just have to specify the original encoding.\n",
    "#### Beautiful Soup sits on top of popular Python parsers like lxml and html5lib, allowing you to try out different parsing strategies or trade speed for flexibility. "
   ]
  },
  {
   "attachments": {},
   "cell_type": "markdown",
   "metadata": {},
   "source": [
    "# Question 4"
   ]
  },
  {
   "attachments": {},
   "cell_type": "markdown",
   "metadata": {},
   "source": [
    "#### Flask is a microframework for developers, designed to enable them to create and scale web apps quickly and simply. Explaining how they go about doing that will take a little more unraveling.\n",
    "#### When you’re not sure which libraries or frameworks will work best for your software product, we recommend that you go with Flask.\n",
    "#### Virtually every Flask project out there has its own unique “internal tech stack” of libraries, frameworks, etc. It’s something of a free-for-all.\n",
    "#### Because of this, Flask is widely known to facilitate experimentation to a high degree. It’s really easy and admittedly very fun for your developers, which in turn means lower turnover for you.\n",
    "### Advantages of Flask-based systems\n",
    "#### higher flexibility\n",
    "#### higher compatibility with latest technologies\n",
    "#### high scalability for simple web applications\n",
    "#### technical experimentation\n",
    "#### customization\n",
    "#### slightly higher framework performance\n",
    "#### easier to use for simple cases\n",
    "#### smaller size of the code base\n",
    "\n"
   ]
  },
  {
   "attachments": {},
   "cell_type": "markdown",
   "metadata": {},
   "source": [
    "# Question 5"
   ]
  },
  {
   "attachments": {},
   "cell_type": "markdown",
   "metadata": {},
   "source": [
    "### CodePipeline and Elastic Beanstalk are used in the project.\n",
    "#### CodePipeline: AWS CodePipeline is a fully managed continuous delivery service that helps you automate your release pipelines for fast and reliable application and infrastructure updates.\n",
    "#### Elastic Beanstalk: AWS Elastic Beanstalk deploys web applications so that you can focus on your business."
   ]
  }
 ],
 "metadata": {
  "language_info": {
   "name": "python"
  },
  "orig_nbformat": 4
 },
 "nbformat": 4,
 "nbformat_minor": 2
}
