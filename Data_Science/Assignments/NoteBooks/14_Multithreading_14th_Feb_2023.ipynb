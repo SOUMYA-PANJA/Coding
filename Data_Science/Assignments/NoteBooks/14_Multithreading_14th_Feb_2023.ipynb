{
 "cells": [
  {
   "attachments": {},
   "cell_type": "markdown",
   "metadata": {},
   "source": [
    "# Question 1"
   ]
  },
  {
   "attachments": {},
   "cell_type": "markdown",
   "metadata": {},
   "source": [
    "#### Multithreading refers to concurrently executing multiple threads by rapidly switching the control of the CPU between threads (called context switching). The Python Global Interpreter Lock limits one thread to run at a time even if the machine contains multiple processors.​\n",
    "#### Multithreading allows the execution of multiple parts of a program at the same time. These parts are known as threads and are lightweight processes available within the process. So multithreading leads to maximum utilization of the CPU by multitasking.\n",
    "#### threading and thread modules are used handle threads in python. While threading is mostly used."
   ]
  },
  {
   "attachments": {},
   "cell_type": "markdown",
   "metadata": {},
   "source": [
    "# Question 2"
   ]
  },
  {
   "attachments": {},
   "cell_type": "markdown",
   "metadata": {},
   "source": [
    "#### The threading module is a high-level implementation of multithreading used to deploy an application in Python.\n",
    "#### threading.activeCount() − Returns the number of thread objects that are active.\n",
    "#### threading.currentThread() − Returns the number of thread objects in the caller's thread control.\n",
    "#### threading.enumerate() − Returns a list of all thread objects that are currently active."
   ]
  },
  {
   "attachments": {},
   "cell_type": "markdown",
   "metadata": {},
   "source": [
    "# Question 3"
   ]
  },
  {
   "attachments": {},
   "cell_type": "markdown",
   "metadata": {},
   "source": [
    "#### run()  − The run() method is the entry point for a thread.\n",
    "#### start()  − The start() method starts a thread by calling the run method.\n",
    "#### join(&lt; time &gt;)  − The join() waits for threads to terminate.\n",
    "#### isAlive()  − The isAlive() method checks whether a thread is still executing."
   ]
  },
  {
   "attachments": {},
   "cell_type": "markdown",
   "metadata": {},
   "source": [
    "# Question 4"
   ]
  },
  {
   "cell_type": "code",
   "execution_count": 1,
   "metadata": {},
   "outputs": [],
   "source": [
    "import threading"
   ]
  },
  {
   "cell_type": "code",
   "execution_count": 21,
   "metadata": {},
   "outputs": [],
   "source": [
    "def sq(x):\n",
    "    return x**2\n",
    "\n",
    "def mapSq(lst):\n",
    "    print(list(map(sq, lst)))\n",
    "\n",
    "def cube(x):\n",
    "    return x**3\n",
    "\n",
    "def mapCube(lst):\n",
    "    print(list(map(cube, lst)))\n",
    "\n",
    "lst = list(range(1, 11))"
   ]
  },
  {
   "cell_type": "code",
   "execution_count": 27,
   "metadata": {},
   "outputs": [],
   "source": [
    "thread1 = threading.Thread(target = mapSq, args = (lst,))\n",
    "thread2 = threading.Thread(target = mapCube, args = (lst,))"
   ]
  },
  {
   "cell_type": "code",
   "execution_count": 28,
   "metadata": {},
   "outputs": [
    {
     "name": "stdout",
     "output_type": "stream",
     "text": [
      "Squares: [1, 4, 9, 16, 25, 36, 49, 64, 81, 100]\n",
      "\n",
      "Cubes: [1, 8, 27, 64, 125, 216, 343, 512, 729, 1000]\n"
     ]
    }
   ],
   "source": [
    "print(\"Squares: \", end = \"\")\n",
    "thread1.start()\n",
    "print(\"\\nCubes: \", end = \"\")\n",
    "thread2.start()"
   ]
  },
  {
   "attachments": {},
   "cell_type": "markdown",
   "metadata": {},
   "source": [
    "# Question 5"
   ]
  },
  {
   "attachments": {},
   "cell_type": "markdown",
   "metadata": {},
   "source": [
    "## Advantages:\n",
    "#### Improved performance and concurrency\n",
    "#### Simplified coding of remote procedure calls and conversations\n",
    "#### Simultaneous access to multiple applications\n",
    "#### Reduced number of required servers\n",
    "\n",
    "## Disadvantages:\n",
    "#### Difficulty of writing code\n",
    "#### Difficulty of debugging\n",
    "#### Difficulty of managing concurrency\n",
    "#### Difficulty of testing\n",
    "#### Difficulty of porting existing code"
   ]
  },
  {
   "attachments": {},
   "cell_type": "markdown",
   "metadata": {},
   "source": [
    "# Question 6"
   ]
  },
  {
   "attachments": {},
   "cell_type": "markdown",
   "metadata": {},
   "source": [
    "#### Deadlock is a situation where a set of processes are blocked because each process is holding a resource and waiting for another resource acquired by some other process. \n",
    "#### A race condition is a situation that may occur inside a critical section. This happens when the result of multiple thread execution in critical section differs according to the order in which the threads execute."
   ]
  },
  {
   "cell_type": "code",
   "execution_count": null,
   "metadata": {},
   "outputs": [],
   "source": []
  }
 ],
 "metadata": {
  "kernelspec": {
   "display_name": "Python 3",
   "language": "python",
   "name": "python3"
  },
  "language_info": {
   "codemirror_mode": {
    "name": "ipython",
    "version": 3
   },
   "file_extension": ".py",
   "mimetype": "text/x-python",
   "name": "python",
   "nbconvert_exporter": "python",
   "pygments_lexer": "ipython3",
   "version": "3.9.7"
  },
  "orig_nbformat": 4,
  "vscode": {
   "interpreter": {
    "hash": "146ad12ad804e51233bd8e0e4750bbd5b1ea650c2a554e98761327ccb594fe93"
   }
  }
 },
 "nbformat": 4,
 "nbformat_minor": 2
}
