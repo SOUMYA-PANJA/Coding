{
 "cells": [
  {
   "attachments": {},
   "cell_type": "markdown",
   "metadata": {},
   "source": [
    "# Question 1"
   ]
  },
  {
   "cell_type": "code",
   "execution_count": 1,
   "metadata": {},
   "outputs": [
    {
     "name": "stdout",
     "output_type": "stream",
     "text": [
      "Grade C.\n"
     ]
    }
   ],
   "source": [
    "marks = int(input(\"Enter your marks: \"))\n",
    "if marks > 90:\n",
    "    print(\"Grade A.\")\n",
    "elif marks > 80:\n",
    "    print(\"Grade B.\")\n",
    "elif marks >= 60:\n",
    "    print(\"Grade C.\")\n",
    "else:\n",
    "    print(\"Grade D.\")"
   ]
  },
  {
   "attachments": {},
   "cell_type": "markdown",
   "metadata": {},
   "source": [
    "# Question 2"
   ]
  },
  {
   "cell_type": "code",
   "execution_count": 3,
   "metadata": {},
   "outputs": [
    {
     "name": "stdout",
     "output_type": "stream",
     "text": [
      "Road tax:  500.0\n"
     ]
    }
   ],
   "source": [
    "costPrice = int(input(\"Enter cost price: \"))\n",
    "if costPrice > 10e5:\n",
    "    print(\"Road tax: \", costPrice*0.15)\n",
    "elif costPrice > 5e4:\n",
    "    print(\"Road tax: \", costPrice*0.1)\n",
    "else:\n",
    "    print(\"Road tax: \", costPrice*0.05)"
   ]
  },
  {
   "attachments": {},
   "cell_type": "markdown",
   "metadata": {},
   "source": [
    "# Question 3"
   ]
  },
  {
   "cell_type": "code",
   "execution_count": 6,
   "metadata": {},
   "outputs": [
    {
     "name": "stdout",
     "output_type": "stream",
     "text": [
      "Monument:  Red Fort\n"
     ]
    }
   ],
   "source": [
    "monuments = {\"delhi\" : \"Red Fort\", \"agra\" : \"Taj Mahal\", \"jaipur\" : \"Jal Mahal\"}\n",
    "city = input(\"Enter city(Delhi, Agra, Jaipur): \")\n",
    "print(\"Monument:\", monuments[city.lower()])\n"
   ]
  },
  {
   "attachments": {},
   "cell_type": "markdown",
   "metadata": {},
   "source": [
    "# Question 4"
   ]
  },
  {
   "cell_type": "code",
   "execution_count": 9,
   "metadata": {},
   "outputs": [
    {
     "name": "stdout",
     "output_type": "stream",
     "text": [
      "Number of times 10 is divisible by 3 before it is less than or equal to 10: 1\n"
     ]
    }
   ],
   "source": [
    "num = int(input(\"Enter a number: \"))\n",
    "\n",
    "count = 0\n",
    "while(num > 10):\n",
    "    num /= 3\n",
    "    count += 1\n",
    "\n",
    "print(f\"Number of times {int(num)} is divisible by 3 before it is less than or equal to 10: {count}\")"
   ]
  },
  {
   "attachments": {},
   "cell_type": "markdown",
   "metadata": {},
   "source": [
    "# Question 5"
   ]
  },
  {
   "attachments": {},
   "cell_type": "markdown",
   "metadata": {},
   "source": [
    "#### We use for while loop when we want to run a block of code till a given condtion is true. Ater the condtion become false, the loop will get terminated."
   ]
  },
  {
   "cell_type": "code",
   "execution_count": 13,
   "metadata": {},
   "outputs": [
    {
     "name": "stdout",
     "output_type": "stream",
     "text": [
      "Adult. Age = 18\n",
      "Adult. Age = 20\n",
      "Adult. Age = 33\n"
     ]
    }
   ],
   "source": [
    "age = int(input(\"Enter age: \"))\n",
    "while(age >= 18):\n",
    "    print(f\"Adult. Age = {age}\")\n",
    "    age = int(input(\"Enter age again: \"))"
   ]
  },
  {
   "attachments": {},
   "cell_type": "markdown",
   "metadata": {},
   "source": [
    "# Question 6"
   ]
  },
  {
   "cell_type": "code",
   "execution_count": 20,
   "metadata": {},
   "outputs": [
    {
     "name": "stdout",
     "output_type": "stream",
     "text": [
      "******\t*\t*******\n",
      "******\t**\t******\n",
      "******\t***\t*****\n",
      "******\t****\t****\n",
      "******\t*****\t***\n",
      "******\t******\t**\n",
      "******\t*******\t*\n"
     ]
    }
   ],
   "source": [
    "m = 6\n",
    "n = 6\n",
    "\n",
    "countPattern2 = 1\n",
    "countPattern3 = n\n",
    "while(n >= 0):\n",
    "\n",
    "    countPattern1 = 0\n",
    "    while(countPattern1 < m):\n",
    "        print(\"*\", end = \"\")\n",
    "        countPattern1 += 1\n",
    "    print(end = \"\\t\")\n",
    "\n",
    "    countPattern2Columns = countPattern2\n",
    "    while(countPattern2Columns > 0):\n",
    "        print(\"*\", end = \"\")\n",
    "        countPattern2Columns -= 1\n",
    "    countPattern2 += 1\n",
    "    print(end = \"\\t\")\n",
    "\n",
    "    countPattern3Columns = countPattern3\n",
    "    while(countPattern3Columns >= 0):\n",
    "        print(\"*\", end = \"\")\n",
    "        countPattern3Columns -= 1\n",
    "    countPattern3 -= 1\n",
    "\n",
    "    print()\n",
    "    n -= 1"
   ]
  },
  {
   "attachments": {},
   "cell_type": "markdown",
   "metadata": {},
   "source": [
    "# Question 7"
   ]
  },
  {
   "cell_type": "code",
   "execution_count": 23,
   "metadata": {},
   "outputs": [
    {
     "name": "stdout",
     "output_type": "stream",
     "text": [
      "10\n",
      "9\n",
      "8\n",
      "7\n",
      "6\n",
      "5\n",
      "4\n",
      "3\n",
      "2\n",
      "1\n"
     ]
    }
   ],
   "source": [
    "n = 10\n",
    "\n",
    "while(n):\n",
    "    print(n)\n",
    "    n -= 1"
   ]
  },
  {
   "cell_type": "code",
   "execution_count": null,
   "metadata": {},
   "outputs": [],
   "source": []
  }
 ],
 "metadata": {
  "kernelspec": {
   "display_name": "Python 3",
   "language": "python",
   "name": "python3"
  },
  "language_info": {
   "codemirror_mode": {
    "name": "ipython",
    "version": 3
   },
   "file_extension": ".py",
   "mimetype": "text/x-python",
   "name": "python",
   "nbconvert_exporter": "python",
   "pygments_lexer": "ipython3",
   "version": "3.9.7"
  },
  "orig_nbformat": 4,
  "vscode": {
   "interpreter": {
    "hash": "146ad12ad804e51233bd8e0e4750bbd5b1ea650c2a554e98761327ccb594fe93"
   }
  }
 },
 "nbformat": 4,
 "nbformat_minor": 2
}
