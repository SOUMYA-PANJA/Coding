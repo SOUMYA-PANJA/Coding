{
 "cells": [
  {
   "attachments": {},
   "cell_type": "markdown",
   "metadata": {},
   "source": [
    "#### 1.\tWho developed python programming language?\n",
    "#### Ans: Guido van Rossum developed python programming language.\n",
    "#### 2.\tWhich type of programming does python support?\n",
    "#### Ans: Python supported object-oriented, structured and functional programming.\n",
    "#### 3.\tIs python case sensitive when dealing with identifiers?\n",
    "#### Ans: Yes, python is case sensitive when dealing with identifiers.\n",
    "#### 4.\tWhat is the correct extension of the python file?\n",
    "#### Ans: (.py) and (.ipynb) both extension are used for python files.\n",
    "#### 5.\tIs python code compiled or interpreted?\n",
    "#### Ans: Python code is interpreted at runtime.\n",
    "#### 6.\tName a few blocks of codes used to define in Python language?\n",
    "#### Ans: Modules, function body and class definition is used to block of code in python.\n",
    "#### 7.\tState a character used to give single line comments in python?\n",
    "#### Ans: ‘#’ is used to give single line comments in python.\n",
    "#### 8.\tMention functions which can help us to find the version of python that we are currently we are currently working on.\n",
    "#### Ans: import sys\n",
    "#### \tprint(sys.version)\n",
    "#### \tThis code can be used to find the version of python that we are currently we are currently working on.\n",
    "#### 9.\tPython supports the creation of anonymous function at runtime, using a construct called ___________.\n",
    "#### Ans: “lambda”.\n",
    "#### 10.\tWhat does pip stand for python?\n",
    "#### Ans: pip stands for preferred installer program.\n",
    "#### 11.\tMention a few built-in functions in python?\n",
    "#### Ans: print(), type(), input(), str(), int(), list(), tuple(), set(), dict().\n",
    "#### 12.\tWhat is the maximum possible length of an identifier in python?\n",
    "#### Ans: 79 characters is the maximum possible length of an identifier in python.\n",
    "#### 13.\tWhat are the benefits of using python?\n",
    "#### Ans: Presence of third-party modules.\n",
    "#### Extensive support libraries (NumPy for numerical calculations, Pandas for data analytics, etc.).\n",
    "#### Open source and large active community base.\n",
    "#### Versatile, Easy to read, learn and write.\n",
    "#### User-friendly data structures.\n",
    "#### High-level language.\n",
    "#### Dynamically typed language (No need to mention data type based on the value assigned, it takes data type).\n",
    "#### Object-Oriented and Procedural Programming language.\n",
    "#### Portable and Interactive.\n",
    "#### 14.\tHow is memory managed in python?\n",
    "#### Ans: Memory management in Python involves a private heap containing all Python objects and data structures. The management of this private heap is ensured internally by the Python memory manager. The Python memory manager has different components which deal with various dynamic storage management aspects, like sharing, segmentation, pre-allocation or caching.\n",
    "#### 15.\tHow to install python on windows and set path variables?\n",
    "#### Ans: Open a browser to the Python website and download the Windows installer. 2. Double click on the downloaded file and install Python for all users, and ensure that Python is added to your path. Click on Install now to begin.\n",
    "#### 16.\tIs indentation required in python?\n",
    "#### Ans: Yes, indentation is required in python."
   ]
  },
  {
   "cell_type": "code",
   "execution_count": null,
   "metadata": {},
   "outputs": [],
   "source": []
  }
 ],
 "metadata": {
  "kernelspec": {
   "display_name": "Python 3",
   "language": "python",
   "name": "python3"
  },
  "language_info": {
   "name": "python",
   "version": "3.9.7"
  },
  "orig_nbformat": 4,
  "vscode": {
   "interpreter": {
    "hash": "146ad12ad804e51233bd8e0e4750bbd5b1ea650c2a554e98761327ccb594fe93"
   }
  }
 },
 "nbformat": 4,
 "nbformat_minor": 2
}
