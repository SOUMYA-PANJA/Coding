{
 "cells": [
  {
   "cell_type": "code",
   "execution_count": 10,
   "metadata": {},
   "outputs": [],
   "source": [
    "import pandas as pd\n",
    "from statsmodels.stats.multicomp import MultiComparison, pairwise_tukeyhsd\n",
    "from statsmodels.formula.api import ols\n",
    "import statsmodels.api as sm"
   ]
  },
  {
   "cell_type": "markdown",
   "metadata": {},
   "source": [
    "# Tukey Kramer test is also a post hoc analysis"
   ]
  },
  {
   "cell_type": "markdown",
   "metadata": {},
   "source": [
    "# Problem 1"
   ]
  },
  {
   "cell_type": "code",
   "execution_count": 2,
   "metadata": {},
   "outputs": [
    {
     "data": {
      "text/plain": [
       "Index(['hardwood concentration 5%', 'hardwood concentration 10%',\n",
       "       'hardwood concentration 15%', 'hardwood concentration 20%'],\n",
       "      dtype='object')"
      ]
     },
     "execution_count": 2,
     "metadata": {},
     "output_type": "execute_result"
    }
   ],
   "source": [
    "df = pd.read_excel('D:/Programming/Data analytics/static/Week 5/Tensile strength of paper.xlsx')\n",
    "df.columns"
   ]
  },
  {
   "cell_type": "code",
   "execution_count": 3,
   "metadata": {},
   "outputs": [],
   "source": [
    "df_r1 = pd.melt(df.reset_index(), id_vars=['index'], value_vars=['hardwood concentration 5%', 'hardwood concentration 10%',\n",
    "       'hardwood concentration 15%', 'hardwood concentration 20%'], var_name = 'Treatments')"
   ]
  },
  {
   "cell_type": "code",
   "execution_count": 4,
   "metadata": {},
   "outputs": [
    {
     "data": {
      "text/html": [
       "<div>\n",
       "<style scoped>\n",
       "    .dataframe tbody tr th:only-of-type {\n",
       "        vertical-align: middle;\n",
       "    }\n",
       "\n",
       "    .dataframe tbody tr th {\n",
       "        vertical-align: top;\n",
       "    }\n",
       "\n",
       "    .dataframe thead th {\n",
       "        text-align: right;\n",
       "    }\n",
       "</style>\n",
       "<table border=\"1\" class=\"dataframe\">\n",
       "  <thead>\n",
       "    <tr style=\"text-align: right;\">\n",
       "      <th></th>\n",
       "      <th>index</th>\n",
       "      <th>Treatments</th>\n",
       "      <th>value</th>\n",
       "    </tr>\n",
       "  </thead>\n",
       "  <tbody>\n",
       "    <tr>\n",
       "      <th>0</th>\n",
       "      <td>0</td>\n",
       "      <td>hardwood concentration 5%</td>\n",
       "      <td>7</td>\n",
       "    </tr>\n",
       "    <tr>\n",
       "      <th>1</th>\n",
       "      <td>1</td>\n",
       "      <td>hardwood concentration 5%</td>\n",
       "      <td>8</td>\n",
       "    </tr>\n",
       "    <tr>\n",
       "      <th>2</th>\n",
       "      <td>2</td>\n",
       "      <td>hardwood concentration 5%</td>\n",
       "      <td>15</td>\n",
       "    </tr>\n",
       "    <tr>\n",
       "      <th>3</th>\n",
       "      <td>3</td>\n",
       "      <td>hardwood concentration 5%</td>\n",
       "      <td>11</td>\n",
       "    </tr>\n",
       "    <tr>\n",
       "      <th>4</th>\n",
       "      <td>4</td>\n",
       "      <td>hardwood concentration 5%</td>\n",
       "      <td>9</td>\n",
       "    </tr>\n",
       "    <tr>\n",
       "      <th>5</th>\n",
       "      <td>5</td>\n",
       "      <td>hardwood concentration 5%</td>\n",
       "      <td>10</td>\n",
       "    </tr>\n",
       "    <tr>\n",
       "      <th>6</th>\n",
       "      <td>0</td>\n",
       "      <td>hardwood concentration 10%</td>\n",
       "      <td>12</td>\n",
       "    </tr>\n",
       "    <tr>\n",
       "      <th>7</th>\n",
       "      <td>1</td>\n",
       "      <td>hardwood concentration 10%</td>\n",
       "      <td>17</td>\n",
       "    </tr>\n",
       "    <tr>\n",
       "      <th>8</th>\n",
       "      <td>2</td>\n",
       "      <td>hardwood concentration 10%</td>\n",
       "      <td>13</td>\n",
       "    </tr>\n",
       "    <tr>\n",
       "      <th>9</th>\n",
       "      <td>3</td>\n",
       "      <td>hardwood concentration 10%</td>\n",
       "      <td>18</td>\n",
       "    </tr>\n",
       "  </tbody>\n",
       "</table>\n",
       "</div>"
      ],
      "text/plain": [
       "   index                  Treatments  value\n",
       "0      0   hardwood concentration 5%      7\n",
       "1      1   hardwood concentration 5%      8\n",
       "2      2   hardwood concentration 5%     15\n",
       "3      3   hardwood concentration 5%     11\n",
       "4      4   hardwood concentration 5%      9\n",
       "5      5   hardwood concentration 5%     10\n",
       "6      0  hardwood concentration 10%     12\n",
       "7      1  hardwood concentration 10%     17\n",
       "8      2  hardwood concentration 10%     13\n",
       "9      3  hardwood concentration 10%     18"
      ]
     },
     "execution_count": 4,
     "metadata": {},
     "output_type": "execute_result"
    }
   ],
   "source": [
    "df_r1.head(n = 10)"
   ]
  },
  {
   "cell_type": "code",
   "execution_count": 5,
   "metadata": {},
   "outputs": [
    {
     "data": {
      "text/html": [
       "<table class=\"simpletable\">\n",
       "<caption>Multiple Comparison of Means - Tukey HSD, FWER=0.05</caption>\n",
       "<tr>\n",
       "            <th>group1</th>                     <th>group2</th>           <th>meandiff</th>  <th>p-adj</th>   <th>lower</th>   <th>upper</th>  <th>reject</th>\n",
       "</tr>\n",
       "<tr>\n",
       "  <td>hardwood concentration 10%</td> <td>hardwood concentration 15%</td>  <td>1.3333</td>  <td>0.8022</td>  <td>-2.7892</td> <td>5.4559</td>   <td>False</td>\n",
       "</tr>\n",
       "<tr>\n",
       "  <td>hardwood concentration 10%</td> <td>hardwood concentration 20%</td>    <td>5.5</td>   <td>0.0066</td>  <td>1.3774</td>  <td>9.6226</td>   <td>True</td> \n",
       "</tr>\n",
       "<tr>\n",
       "  <td>hardwood concentration 10%</td>  <td>hardwood concentration 5%</td>  <td>-5.6667</td> <td>0.0051</td>  <td>-9.7892</td> <td>-1.5441</td>  <td>True</td> \n",
       "</tr>\n",
       "<tr>\n",
       "  <td>hardwood concentration 15%</td> <td>hardwood concentration 20%</td>  <td>4.1667</td>   <td>0.047</td>  <td>0.0441</td>  <td>8.2892</td>   <td>True</td> \n",
       "</tr>\n",
       "<tr>\n",
       "  <td>hardwood concentration 15%</td>  <td>hardwood concentration 5%</td>   <td>-7.0</td>   <td>0.0007</td> <td>-11.1226</td> <td>-2.8774</td>  <td>True</td> \n",
       "</tr>\n",
       "<tr>\n",
       "  <td>hardwood concentration 20%</td>  <td>hardwood concentration 5%</td> <td>-11.1667</td>   <td>0.0</td>  <td>-15.2892</td> <td>-7.0441</td>  <td>True</td> \n",
       "</tr>\n",
       "</table>"
      ],
      "text/plain": [
       "<class 'statsmodels.iolib.table.SimpleTable'>"
      ]
     },
     "execution_count": 5,
     "metadata": {},
     "output_type": "execute_result"
    }
   ],
   "source": [
    "mc = MultiComparison(df_r1['value'], df_r1['Treatments'])\n",
    "mc_result = mc.tukeyhsd(0.05)\n",
    "mc_result.summary()"
   ]
  },
  {
   "cell_type": "markdown",
   "metadata": {},
   "source": [
    "# Problem 2"
   ]
  },
  {
   "cell_type": "code",
   "execution_count": 6,
   "metadata": {},
   "outputs": [
    {
     "data": {
      "text/plain": [
       "Index(['cotwt.15', 'cotwt.20', 'cotwt.25', 'cotwt.30', 'cotwt.35'], dtype='object')"
      ]
     },
     "execution_count": 6,
     "metadata": {},
     "output_type": "execute_result"
    }
   ],
   "source": [
    "data = pd.read_excel('D:/Programming/Data analytics/static/Week 5/cotton weight.xlsx')\n",
    "data.columns"
   ]
  },
  {
   "cell_type": "code",
   "execution_count": 7,
   "metadata": {},
   "outputs": [
    {
     "data": {
      "text/html": [
       "<div>\n",
       "<style scoped>\n",
       "    .dataframe tbody tr th:only-of-type {\n",
       "        vertical-align: middle;\n",
       "    }\n",
       "\n",
       "    .dataframe tbody tr th {\n",
       "        vertical-align: top;\n",
       "    }\n",
       "\n",
       "    .dataframe thead th {\n",
       "        text-align: right;\n",
       "    }\n",
       "</style>\n",
       "<table border=\"1\" class=\"dataframe\">\n",
       "  <thead>\n",
       "    <tr style=\"text-align: right;\">\n",
       "      <th></th>\n",
       "      <th>index</th>\n",
       "      <th>Treatments</th>\n",
       "      <th>value</th>\n",
       "    </tr>\n",
       "  </thead>\n",
       "  <tbody>\n",
       "    <tr>\n",
       "      <th>0</th>\n",
       "      <td>0</td>\n",
       "      <td>cotwt.15</td>\n",
       "      <td>7</td>\n",
       "    </tr>\n",
       "    <tr>\n",
       "      <th>1</th>\n",
       "      <td>1</td>\n",
       "      <td>cotwt.15</td>\n",
       "      <td>7</td>\n",
       "    </tr>\n",
       "    <tr>\n",
       "      <th>2</th>\n",
       "      <td>2</td>\n",
       "      <td>cotwt.15</td>\n",
       "      <td>15</td>\n",
       "    </tr>\n",
       "    <tr>\n",
       "      <th>3</th>\n",
       "      <td>3</td>\n",
       "      <td>cotwt.15</td>\n",
       "      <td>11</td>\n",
       "    </tr>\n",
       "    <tr>\n",
       "      <th>4</th>\n",
       "      <td>4</td>\n",
       "      <td>cotwt.15</td>\n",
       "      <td>9</td>\n",
       "    </tr>\n",
       "    <tr>\n",
       "      <th>5</th>\n",
       "      <td>0</td>\n",
       "      <td>cotwt.20</td>\n",
       "      <td>12</td>\n",
       "    </tr>\n",
       "    <tr>\n",
       "      <th>6</th>\n",
       "      <td>1</td>\n",
       "      <td>cotwt.20</td>\n",
       "      <td>17</td>\n",
       "    </tr>\n",
       "    <tr>\n",
       "      <th>7</th>\n",
       "      <td>2</td>\n",
       "      <td>cotwt.20</td>\n",
       "      <td>12</td>\n",
       "    </tr>\n",
       "    <tr>\n",
       "      <th>8</th>\n",
       "      <td>3</td>\n",
       "      <td>cotwt.20</td>\n",
       "      <td>18</td>\n",
       "    </tr>\n",
       "    <tr>\n",
       "      <th>9</th>\n",
       "      <td>4</td>\n",
       "      <td>cotwt.20</td>\n",
       "      <td>18</td>\n",
       "    </tr>\n",
       "  </tbody>\n",
       "</table>\n",
       "</div>"
      ],
      "text/plain": [
       "   index Treatments  value\n",
       "0      0   cotwt.15      7\n",
       "1      1   cotwt.15      7\n",
       "2      2   cotwt.15     15\n",
       "3      3   cotwt.15     11\n",
       "4      4   cotwt.15      9\n",
       "5      0   cotwt.20     12\n",
       "6      1   cotwt.20     17\n",
       "7      2   cotwt.20     12\n",
       "8      3   cotwt.20     18\n",
       "9      4   cotwt.20     18"
      ]
     },
     "execution_count": 7,
     "metadata": {},
     "output_type": "execute_result"
    }
   ],
   "source": [
    "data_r1 = pd.melt(data.reset_index(), id_vars=['index'], value_vars=['cotwt.15', 'cotwt.20', 'cotwt.25', 'cotwt.30', 'cotwt.35'], var_name='Treatments')\n",
    "data_r1.head(n = 10)"
   ]
  },
  {
   "cell_type": "code",
   "execution_count": 11,
   "metadata": {},
   "outputs": [
    {
     "data": {
      "text/html": [
       "<table class=\"simpletable\">\n",
       "<caption>OLS Regression Results</caption>\n",
       "<tr>\n",
       "  <th>Dep. Variable:</th>          <td>value</td>      <th>  R-squared:         </th> <td>   0.747</td>\n",
       "</tr>\n",
       "<tr>\n",
       "  <th>Model:</th>                   <td>OLS</td>       <th>  Adj. R-squared:    </th> <td>   0.696</td>\n",
       "</tr>\n",
       "<tr>\n",
       "  <th>Method:</th>             <td>Least Squares</td>  <th>  F-statistic:       </th> <td>   14.76</td>\n",
       "</tr>\n",
       "<tr>\n",
       "  <th>Date:</th>             <td>Sun, 17 Jul 2022</td> <th>  Prob (F-statistic):</th> <td>9.13e-06</td>\n",
       "</tr>\n",
       "<tr>\n",
       "  <th>Time:</th>                 <td>17:36:59</td>     <th>  Log-Likelihood:    </th> <td> -58.771</td>\n",
       "</tr>\n",
       "<tr>\n",
       "  <th>No. Observations:</th>      <td>    25</td>      <th>  AIC:               </th> <td>   127.5</td>\n",
       "</tr>\n",
       "<tr>\n",
       "  <th>Df Residuals:</th>          <td>    20</td>      <th>  BIC:               </th> <td>   133.6</td>\n",
       "</tr>\n",
       "<tr>\n",
       "  <th>Df Model:</th>              <td>     4</td>      <th>                     </th>     <td> </td>   \n",
       "</tr>\n",
       "<tr>\n",
       "  <th>Covariance Type:</th>      <td>nonrobust</td>    <th>                     </th>     <td> </td>   \n",
       "</tr>\n",
       "</table>\n",
       "<table class=\"simpletable\">\n",
       "<tr>\n",
       "              <td></td>                 <th>coef</th>     <th>std err</th>      <th>t</th>      <th>P>|t|</th>  <th>[0.025</th>    <th>0.975]</th>  \n",
       "</tr>\n",
       "<tr>\n",
       "  <th>Intercept</th>                 <td>    9.8000</td> <td>    1.270</td> <td>    7.719</td> <td> 0.000</td> <td>    7.152</td> <td>   12.448</td>\n",
       "</tr>\n",
       "<tr>\n",
       "  <th>C(Treatments)[T.cotwt.20]</th> <td>    5.6000</td> <td>    1.796</td> <td>    3.119</td> <td> 0.005</td> <td>    1.855</td> <td>    9.345</td>\n",
       "</tr>\n",
       "<tr>\n",
       "  <th>C(Treatments)[T.cotwt.25]</th> <td>    7.8000</td> <td>    1.796</td> <td>    4.344</td> <td> 0.000</td> <td>    4.055</td> <td>   11.545</td>\n",
       "</tr>\n",
       "<tr>\n",
       "  <th>C(Treatments)[T.cotwt.30]</th> <td>   11.8000</td> <td>    1.796</td> <td>    6.572</td> <td> 0.000</td> <td>    8.055</td> <td>   15.545</td>\n",
       "</tr>\n",
       "<tr>\n",
       "  <th>C(Treatments)[T.cotwt.35]</th> <td>    1.0000</td> <td>    1.796</td> <td>    0.557</td> <td> 0.584</td> <td>   -2.745</td> <td>    4.745</td>\n",
       "</tr>\n",
       "</table>\n",
       "<table class=\"simpletable\">\n",
       "<tr>\n",
       "  <th>Omnibus:</th>       <td> 1.435</td> <th>  Durbin-Watson:     </th> <td>   2.402</td>\n",
       "</tr>\n",
       "<tr>\n",
       "  <th>Prob(Omnibus):</th> <td> 0.488</td> <th>  Jarque-Bera (JB):  </th> <td>   0.957</td>\n",
       "</tr>\n",
       "<tr>\n",
       "  <th>Skew:</th>          <td> 0.106</td> <th>  Prob(JB):          </th> <td>   0.620</td>\n",
       "</tr>\n",
       "<tr>\n",
       "  <th>Kurtosis:</th>      <td> 2.065</td> <th>  Cond. No.          </th> <td>    5.83</td>\n",
       "</tr>\n",
       "</table><br/><br/>Notes:<br/>[1] Standard Errors assume that the covariance matrix of the errors is correctly specified."
      ],
      "text/plain": [
       "<class 'statsmodels.iolib.summary.Summary'>\n",
       "\"\"\"\n",
       "                            OLS Regression Results                            \n",
       "==============================================================================\n",
       "Dep. Variable:                  value   R-squared:                       0.747\n",
       "Model:                            OLS   Adj. R-squared:                  0.696\n",
       "Method:                 Least Squares   F-statistic:                     14.76\n",
       "Date:                Sun, 17 Jul 2022   Prob (F-statistic):           9.13e-06\n",
       "Time:                        17:36:59   Log-Likelihood:                -58.771\n",
       "No. Observations:                  25   AIC:                             127.5\n",
       "Df Residuals:                      20   BIC:                             133.6\n",
       "Df Model:                           4                                         \n",
       "Covariance Type:            nonrobust                                         \n",
       "=============================================================================================\n",
       "                                coef    std err          t      P>|t|      [0.025      0.975]\n",
       "---------------------------------------------------------------------------------------------\n",
       "Intercept                     9.8000      1.270      7.719      0.000       7.152      12.448\n",
       "C(Treatments)[T.cotwt.20]     5.6000      1.796      3.119      0.005       1.855       9.345\n",
       "C(Treatments)[T.cotwt.25]     7.8000      1.796      4.344      0.000       4.055      11.545\n",
       "C(Treatments)[T.cotwt.30]    11.8000      1.796      6.572      0.000       8.055      15.545\n",
       "C(Treatments)[T.cotwt.35]     1.0000      1.796      0.557      0.584      -2.745       4.745\n",
       "==============================================================================\n",
       "Omnibus:                        1.435   Durbin-Watson:                   2.402\n",
       "Prob(Omnibus):                  0.488   Jarque-Bera (JB):                0.957\n",
       "Skew:                           0.106   Prob(JB):                        0.620\n",
       "Kurtosis:                       2.065   Cond. No.                         5.83\n",
       "==============================================================================\n",
       "\n",
       "Notes:\n",
       "[1] Standard Errors assume that the covariance matrix of the errors is correctly specified.\n",
       "\"\"\""
      ]
     },
     "execution_count": 11,
     "metadata": {},
     "output_type": "execute_result"
    }
   ],
   "source": [
    "model = ols('value ~ C(Treatments)', data = data_r1).fit()\n",
    "model.summary()"
   ]
  },
  {
   "cell_type": "code",
   "execution_count": 14,
   "metadata": {},
   "outputs": [
    {
     "data": {
      "text/html": [
       "<div>\n",
       "<style scoped>\n",
       "    .dataframe tbody tr th:only-of-type {\n",
       "        vertical-align: middle;\n",
       "    }\n",
       "\n",
       "    .dataframe tbody tr th {\n",
       "        vertical-align: top;\n",
       "    }\n",
       "\n",
       "    .dataframe thead th {\n",
       "        text-align: right;\n",
       "    }\n",
       "</style>\n",
       "<table border=\"1\" class=\"dataframe\">\n",
       "  <thead>\n",
       "    <tr style=\"text-align: right;\">\n",
       "      <th></th>\n",
       "      <th>df</th>\n",
       "      <th>sum_sq</th>\n",
       "      <th>mean_sq</th>\n",
       "      <th>F</th>\n",
       "      <th>PR(&gt;F)</th>\n",
       "    </tr>\n",
       "  </thead>\n",
       "  <tbody>\n",
       "    <tr>\n",
       "      <th>C(Treatments)</th>\n",
       "      <td>4.0</td>\n",
       "      <td>475.76</td>\n",
       "      <td>118.94</td>\n",
       "      <td>14.756824</td>\n",
       "      <td>0.000009</td>\n",
       "    </tr>\n",
       "    <tr>\n",
       "      <th>Residual</th>\n",
       "      <td>20.0</td>\n",
       "      <td>161.20</td>\n",
       "      <td>8.06</td>\n",
       "      <td>NaN</td>\n",
       "      <td>NaN</td>\n",
       "    </tr>\n",
       "  </tbody>\n",
       "</table>\n",
       "</div>"
      ],
      "text/plain": [
       "                 df  sum_sq  mean_sq          F    PR(>F)\n",
       "C(Treatments)   4.0  475.76   118.94  14.756824  0.000009\n",
       "Residual       20.0  161.20     8.06        NaN       NaN"
      ]
     },
     "execution_count": 14,
     "metadata": {},
     "output_type": "execute_result"
    }
   ],
   "source": [
    "anova_table = sm.stats.anova_lm(model)\n",
    "anova_table # As probability is very small we reject H0"
   ]
  },
  {
   "cell_type": "code",
   "execution_count": 15,
   "metadata": {},
   "outputs": [
    {
     "data": {
      "text/html": [
       "<table class=\"simpletable\">\n",
       "<caption>Multiple Comparison of Means - Tukey HSD, FWER=0.05</caption>\n",
       "<tr>\n",
       "   <th>group1</th>   <th>group2</th>  <th>meandiff</th>  <th>p-adj</th>  <th>lower</th>   <th>upper</th> <th>reject</th>\n",
       "</tr>\n",
       "<tr>\n",
       "  <td>cotwt.15</td> <td>cotwt.20</td>    <td>5.6</td>   <td>0.0385</td>  <td>0.227</td>  <td>10.973</td>  <td>True</td> \n",
       "</tr>\n",
       "<tr>\n",
       "  <td>cotwt.15</td> <td>cotwt.25</td>    <td>7.8</td>   <td>0.0026</td>  <td>2.427</td>  <td>13.173</td>  <td>True</td> \n",
       "</tr>\n",
       "<tr>\n",
       "  <td>cotwt.15</td> <td>cotwt.30</td>   <td>11.8</td>     <td>0.0</td>   <td>6.427</td>  <td>17.173</td>  <td>True</td> \n",
       "</tr>\n",
       "<tr>\n",
       "  <td>cotwt.15</td> <td>cotwt.35</td>    <td>1.0</td>   <td>0.9798</td> <td>-4.373</td>   <td>6.373</td>  <td>False</td>\n",
       "</tr>\n",
       "<tr>\n",
       "  <td>cotwt.20</td> <td>cotwt.25</td>    <td>2.2</td>   <td>0.7372</td> <td>-3.173</td>   <td>7.573</td>  <td>False</td>\n",
       "</tr>\n",
       "<tr>\n",
       "  <td>cotwt.20</td> <td>cotwt.30</td>    <td>6.2</td>   <td>0.0189</td>  <td>0.827</td>  <td>11.573</td>  <td>True</td> \n",
       "</tr>\n",
       "<tr>\n",
       "  <td>cotwt.20</td> <td>cotwt.35</td>   <td>-4.6</td>   <td>0.1163</td> <td>-9.973</td>   <td>0.773</td>  <td>False</td>\n",
       "</tr>\n",
       "<tr>\n",
       "  <td>cotwt.25</td> <td>cotwt.30</td>    <td>4.0</td>   <td>0.2101</td> <td>-1.373</td>   <td>9.373</td>  <td>False</td>\n",
       "</tr>\n",
       "<tr>\n",
       "  <td>cotwt.25</td> <td>cotwt.35</td>   <td>-6.8</td>   <td>0.0091</td> <td>-12.173</td> <td>-1.427</td>  <td>True</td> \n",
       "</tr>\n",
       "<tr>\n",
       "  <td>cotwt.30</td> <td>cotwt.35</td>   <td>-10.8</td>  <td>0.0001</td> <td>-16.173</td> <td>-5.427</td>  <td>True</td> \n",
       "</tr>\n",
       "</table>"
      ],
      "text/plain": [
       "<class 'statsmodels.iolib.table.SimpleTable'>"
      ]
     },
     "execution_count": 15,
     "metadata": {},
     "output_type": "execute_result"
    }
   ],
   "source": [
    "mc2 = MultiComparison(data_r1['value'], data_r1['Treatments'])\n",
    "mc_result_2 = mc2.tukeyhsd(0.05)\n",
    "mc_result_2.summary()"
   ]
  },
  {
   "cell_type": "code",
   "execution_count": null,
   "metadata": {},
   "outputs": [],
   "source": []
  }
 ],
 "metadata": {
  "kernelspec": {
   "display_name": "Python 3.9.7 64-bit",
   "language": "python",
   "name": "python3"
  },
  "language_info": {
   "codemirror_mode": {
    "name": "ipython",
    "version": 3
   },
   "file_extension": ".py",
   "mimetype": "text/x-python",
   "name": "python",
   "nbconvert_exporter": "python",
   "pygments_lexer": "ipython3",
   "version": "3.9.7"
  },
  "orig_nbformat": 4,
  "vscode": {
   "interpreter": {
    "hash": "146ad12ad804e51233bd8e0e4750bbd5b1ea650c2a554e98761327ccb594fe93"
   }
  }
 },
 "nbformat": 4,
 "nbformat_minor": 2
}
